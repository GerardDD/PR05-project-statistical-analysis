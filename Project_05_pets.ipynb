{
 "cells": [
  {
   "cell_type": "markdown",
   "id": "b2bcdc18",
   "metadata": {},
   "source": [
    "### 1 -  Importing libraries"
   ]
  },
  {
   "cell_type": "code",
   "execution_count": 1,
   "id": "5896818d",
   "metadata": {},
   "outputs": [],
   "source": [
    "# importing personal library\n",
    "import my_functions as mfu"
   ]
  },
  {
   "cell_type": "code",
   "execution_count": 2,
   "id": "1dc1e426",
   "metadata": {},
   "outputs": [],
   "source": [
    "# importing basic libraries\n",
    "import pandas as pd\n",
    "import numpy as np\n",
    "import matplotlib.pyplot as plt\n",
    "import seaborn as sns"
   ]
  },
  {
   "cell_type": "markdown",
   "id": "3479c30e",
   "metadata": {},
   "source": [
    "### 2 - Collecting data"
   ]
  },
  {
   "cell_type": "code",
   "execution_count": 3,
   "id": "41600a6c",
   "metadata": {},
   "outputs": [],
   "source": [
    "train_df = pd.read_csv('train.csv')\n",
    "test_df = pd.read_csv('test.csv')\n",
    "sample_df = pd.read_csv('sample_submission.csv')"
   ]
  },
  {
   "cell_type": "code",
   "execution_count": 4,
   "id": "c276eb23",
   "metadata": {},
   "outputs": [
    {
     "data": {
      "text/plain": [
       "Index(['AnimalID', 'Name', 'DateTime', 'OutcomeType', 'OutcomeSubtype',\n",
       "       'AnimalType', 'SexuponOutcome', 'AgeuponOutcome', 'Breed', 'Color'],\n",
       "      dtype='object')"
      ]
     },
     "execution_count": 4,
     "metadata": {},
     "output_type": "execute_result"
    }
   ],
   "source": [
    "train_df.columns"
   ]
  },
  {
   "cell_type": "code",
   "execution_count": 5,
   "id": "9cb7ebeb",
   "metadata": {},
   "outputs": [
    {
     "data": {
      "text/plain": [
       "Index(['ID', 'Name', 'DateTime', 'AnimalType', 'SexuponOutcome',\n",
       "       'AgeuponOutcome', 'Breed', 'Color'],\n",
       "      dtype='object')"
      ]
     },
     "execution_count": 5,
     "metadata": {},
     "output_type": "execute_result"
    }
   ],
   "source": [
    "test_df.columns"
   ]
  },
  {
   "cell_type": "code",
   "execution_count": 6,
   "id": "f5998a8e",
   "metadata": {},
   "outputs": [],
   "source": [
    "# we join the two dfs to recover the original?\n",
    "pet_df = pd.concat([train_df,test_df])"
   ]
  },
  {
   "cell_type": "code",
   "execution_count": 7,
   "id": "a03e730d",
   "metadata": {},
   "outputs": [
    {
     "data": {
      "text/html": [
       "<div>\n",
       "<style scoped>\n",
       "    .dataframe tbody tr th:only-of-type {\n",
       "        vertical-align: middle;\n",
       "    }\n",
       "\n",
       "    .dataframe tbody tr th {\n",
       "        vertical-align: top;\n",
       "    }\n",
       "\n",
       "    .dataframe thead th {\n",
       "        text-align: right;\n",
       "    }\n",
       "</style>\n",
       "<table border=\"1\" class=\"dataframe\">\n",
       "  <thead>\n",
       "    <tr style=\"text-align: right;\">\n",
       "      <th></th>\n",
       "      <th>AnimalID</th>\n",
       "      <th>Name</th>\n",
       "      <th>DateTime</th>\n",
       "      <th>OutcomeType</th>\n",
       "      <th>OutcomeSubtype</th>\n",
       "      <th>AnimalType</th>\n",
       "      <th>SexuponOutcome</th>\n",
       "      <th>AgeuponOutcome</th>\n",
       "      <th>Breed</th>\n",
       "      <th>Color</th>\n",
       "      <th>ID</th>\n",
       "    </tr>\n",
       "  </thead>\n",
       "  <tbody>\n",
       "    <tr>\n",
       "      <th>0</th>\n",
       "      <td>A671945</td>\n",
       "      <td>Hambone</td>\n",
       "      <td>2014-02-12 18:22:00</td>\n",
       "      <td>Return_to_owner</td>\n",
       "      <td>NaN</td>\n",
       "      <td>Dog</td>\n",
       "      <td>Neutered Male</td>\n",
       "      <td>1 year</td>\n",
       "      <td>Shetland Sheepdog Mix</td>\n",
       "      <td>Brown/White</td>\n",
       "      <td>NaN</td>\n",
       "    </tr>\n",
       "    <tr>\n",
       "      <th>1</th>\n",
       "      <td>A656520</td>\n",
       "      <td>Emily</td>\n",
       "      <td>2013-10-13 12:44:00</td>\n",
       "      <td>Euthanasia</td>\n",
       "      <td>Suffering</td>\n",
       "      <td>Cat</td>\n",
       "      <td>Spayed Female</td>\n",
       "      <td>1 year</td>\n",
       "      <td>Domestic Shorthair Mix</td>\n",
       "      <td>Cream Tabby</td>\n",
       "      <td>NaN</td>\n",
       "    </tr>\n",
       "    <tr>\n",
       "      <th>2</th>\n",
       "      <td>A686464</td>\n",
       "      <td>Pearce</td>\n",
       "      <td>2015-01-31 12:28:00</td>\n",
       "      <td>Adoption</td>\n",
       "      <td>Foster</td>\n",
       "      <td>Dog</td>\n",
       "      <td>Neutered Male</td>\n",
       "      <td>2 years</td>\n",
       "      <td>Pit Bull Mix</td>\n",
       "      <td>Blue/White</td>\n",
       "      <td>NaN</td>\n",
       "    </tr>\n",
       "    <tr>\n",
       "      <th>3</th>\n",
       "      <td>A683430</td>\n",
       "      <td>NaN</td>\n",
       "      <td>2014-07-11 19:09:00</td>\n",
       "      <td>Transfer</td>\n",
       "      <td>Partner</td>\n",
       "      <td>Cat</td>\n",
       "      <td>Intact Male</td>\n",
       "      <td>3 weeks</td>\n",
       "      <td>Domestic Shorthair Mix</td>\n",
       "      <td>Blue Cream</td>\n",
       "      <td>NaN</td>\n",
       "    </tr>\n",
       "    <tr>\n",
       "      <th>4</th>\n",
       "      <td>A667013</td>\n",
       "      <td>NaN</td>\n",
       "      <td>2013-11-15 12:52:00</td>\n",
       "      <td>Transfer</td>\n",
       "      <td>Partner</td>\n",
       "      <td>Dog</td>\n",
       "      <td>Neutered Male</td>\n",
       "      <td>2 years</td>\n",
       "      <td>Lhasa Apso/Miniature Poodle</td>\n",
       "      <td>Tan</td>\n",
       "      <td>NaN</td>\n",
       "    </tr>\n",
       "    <tr>\n",
       "      <th>...</th>\n",
       "      <td>...</td>\n",
       "      <td>...</td>\n",
       "      <td>...</td>\n",
       "      <td>...</td>\n",
       "      <td>...</td>\n",
       "      <td>...</td>\n",
       "      <td>...</td>\n",
       "      <td>...</td>\n",
       "      <td>...</td>\n",
       "      <td>...</td>\n",
       "      <td>...</td>\n",
       "    </tr>\n",
       "    <tr>\n",
       "      <th>11451</th>\n",
       "      <td>NaN</td>\n",
       "      <td>NaN</td>\n",
       "      <td>2014-07-08 14:50:00</td>\n",
       "      <td>NaN</td>\n",
       "      <td>NaN</td>\n",
       "      <td>Cat</td>\n",
       "      <td>Neutered Male</td>\n",
       "      <td>2 months</td>\n",
       "      <td>Domestic Shorthair Mix</td>\n",
       "      <td>Black</td>\n",
       "      <td>11452.0</td>\n",
       "    </tr>\n",
       "    <tr>\n",
       "      <th>11452</th>\n",
       "      <td>NaN</td>\n",
       "      <td>NaN</td>\n",
       "      <td>2014-10-21 12:57:00</td>\n",
       "      <td>NaN</td>\n",
       "      <td>NaN</td>\n",
       "      <td>Cat</td>\n",
       "      <td>Intact Female</td>\n",
       "      <td>2 weeks</td>\n",
       "      <td>Domestic Shorthair Mix</td>\n",
       "      <td>Blue</td>\n",
       "      <td>11453.0</td>\n",
       "    </tr>\n",
       "    <tr>\n",
       "      <th>11453</th>\n",
       "      <td>NaN</td>\n",
       "      <td>NaN</td>\n",
       "      <td>2014-09-29 09:00:00</td>\n",
       "      <td>NaN</td>\n",
       "      <td>NaN</td>\n",
       "      <td>Cat</td>\n",
       "      <td>Intact Female</td>\n",
       "      <td>1 year</td>\n",
       "      <td>Domestic Shorthair Mix</td>\n",
       "      <td>Calico</td>\n",
       "      <td>11454.0</td>\n",
       "    </tr>\n",
       "    <tr>\n",
       "      <th>11454</th>\n",
       "      <td>NaN</td>\n",
       "      <td>Rambo</td>\n",
       "      <td>2015-09-05 17:16:00</td>\n",
       "      <td>NaN</td>\n",
       "      <td>NaN</td>\n",
       "      <td>Dog</td>\n",
       "      <td>Neutered Male</td>\n",
       "      <td>6 years</td>\n",
       "      <td>German Shepherd Mix</td>\n",
       "      <td>Black/Tan</td>\n",
       "      <td>11455.0</td>\n",
       "    </tr>\n",
       "    <tr>\n",
       "      <th>11455</th>\n",
       "      <td>NaN</td>\n",
       "      <td>Gusto</td>\n",
       "      <td>2014-07-12 18:40:00</td>\n",
       "      <td>NaN</td>\n",
       "      <td>NaN</td>\n",
       "      <td>Dog</td>\n",
       "      <td>Intact Male</td>\n",
       "      <td>4 years</td>\n",
       "      <td>Labrador Retriever</td>\n",
       "      <td>Cream</td>\n",
       "      <td>11456.0</td>\n",
       "    </tr>\n",
       "  </tbody>\n",
       "</table>\n",
       "<p>38185 rows × 11 columns</p>\n",
       "</div>"
      ],
      "text/plain": [
       "      AnimalID     Name             DateTime      OutcomeType OutcomeSubtype  \\\n",
       "0      A671945  Hambone  2014-02-12 18:22:00  Return_to_owner            NaN   \n",
       "1      A656520    Emily  2013-10-13 12:44:00       Euthanasia      Suffering   \n",
       "2      A686464   Pearce  2015-01-31 12:28:00         Adoption         Foster   \n",
       "3      A683430      NaN  2014-07-11 19:09:00         Transfer        Partner   \n",
       "4      A667013      NaN  2013-11-15 12:52:00         Transfer        Partner   \n",
       "...        ...      ...                  ...              ...            ...   \n",
       "11451      NaN      NaN  2014-07-08 14:50:00              NaN            NaN   \n",
       "11452      NaN      NaN  2014-10-21 12:57:00              NaN            NaN   \n",
       "11453      NaN      NaN  2014-09-29 09:00:00              NaN            NaN   \n",
       "11454      NaN    Rambo  2015-09-05 17:16:00              NaN            NaN   \n",
       "11455      NaN    Gusto  2014-07-12 18:40:00              NaN            NaN   \n",
       "\n",
       "      AnimalType SexuponOutcome AgeuponOutcome                        Breed  \\\n",
       "0            Dog  Neutered Male         1 year        Shetland Sheepdog Mix   \n",
       "1            Cat  Spayed Female         1 year       Domestic Shorthair Mix   \n",
       "2            Dog  Neutered Male        2 years                 Pit Bull Mix   \n",
       "3            Cat    Intact Male        3 weeks       Domestic Shorthair Mix   \n",
       "4            Dog  Neutered Male        2 years  Lhasa Apso/Miniature Poodle   \n",
       "...          ...            ...            ...                          ...   \n",
       "11451        Cat  Neutered Male       2 months       Domestic Shorthair Mix   \n",
       "11452        Cat  Intact Female        2 weeks       Domestic Shorthair Mix   \n",
       "11453        Cat  Intact Female         1 year       Domestic Shorthair Mix   \n",
       "11454        Dog  Neutered Male        6 years          German Shepherd Mix   \n",
       "11455        Dog    Intact Male        4 years           Labrador Retriever   \n",
       "\n",
       "             Color       ID  \n",
       "0      Brown/White      NaN  \n",
       "1      Cream Tabby      NaN  \n",
       "2       Blue/White      NaN  \n",
       "3       Blue Cream      NaN  \n",
       "4              Tan      NaN  \n",
       "...            ...      ...  \n",
       "11451        Black  11452.0  \n",
       "11452         Blue  11453.0  \n",
       "11453       Calico  11454.0  \n",
       "11454    Black/Tan  11455.0  \n",
       "11455        Cream  11456.0  \n",
       "\n",
       "[38185 rows x 11 columns]"
      ]
     },
     "execution_count": 7,
     "metadata": {},
     "output_type": "execute_result"
    }
   ],
   "source": [
    "# train and test have different columns... \n",
    "pet_df"
   ]
  },
  {
   "cell_type": "code",
   "execution_count": 8,
   "id": "25dc44eb",
   "metadata": {},
   "outputs": [],
   "source": [
    "# In the end, we will use train as our main df\n",
    "pet_df = train_df.copy()"
   ]
  },
  {
   "cell_type": "code",
   "execution_count": 9,
   "id": "20b3bd0d",
   "metadata": {},
   "outputs": [
    {
     "data": {
      "text/html": [
       "<div>\n",
       "<style scoped>\n",
       "    .dataframe tbody tr th:only-of-type {\n",
       "        vertical-align: middle;\n",
       "    }\n",
       "\n",
       "    .dataframe tbody tr th {\n",
       "        vertical-align: top;\n",
       "    }\n",
       "\n",
       "    .dataframe thead th {\n",
       "        text-align: right;\n",
       "    }\n",
       "</style>\n",
       "<table border=\"1\" class=\"dataframe\">\n",
       "  <thead>\n",
       "    <tr style=\"text-align: right;\">\n",
       "      <th></th>\n",
       "      <th>AnimalID</th>\n",
       "      <th>Name</th>\n",
       "      <th>DateTime</th>\n",
       "      <th>OutcomeType</th>\n",
       "      <th>OutcomeSubtype</th>\n",
       "      <th>AnimalType</th>\n",
       "      <th>SexuponOutcome</th>\n",
       "      <th>AgeuponOutcome</th>\n",
       "      <th>Breed</th>\n",
       "      <th>Color</th>\n",
       "    </tr>\n",
       "  </thead>\n",
       "  <tbody>\n",
       "    <tr>\n",
       "      <th>0</th>\n",
       "      <td>A671945</td>\n",
       "      <td>Hambone</td>\n",
       "      <td>2014-02-12 18:22:00</td>\n",
       "      <td>Return_to_owner</td>\n",
       "      <td>NaN</td>\n",
       "      <td>Dog</td>\n",
       "      <td>Neutered Male</td>\n",
       "      <td>1 year</td>\n",
       "      <td>Shetland Sheepdog Mix</td>\n",
       "      <td>Brown/White</td>\n",
       "    </tr>\n",
       "    <tr>\n",
       "      <th>1</th>\n",
       "      <td>A656520</td>\n",
       "      <td>Emily</td>\n",
       "      <td>2013-10-13 12:44:00</td>\n",
       "      <td>Euthanasia</td>\n",
       "      <td>Suffering</td>\n",
       "      <td>Cat</td>\n",
       "      <td>Spayed Female</td>\n",
       "      <td>1 year</td>\n",
       "      <td>Domestic Shorthair Mix</td>\n",
       "      <td>Cream Tabby</td>\n",
       "    </tr>\n",
       "    <tr>\n",
       "      <th>2</th>\n",
       "      <td>A686464</td>\n",
       "      <td>Pearce</td>\n",
       "      <td>2015-01-31 12:28:00</td>\n",
       "      <td>Adoption</td>\n",
       "      <td>Foster</td>\n",
       "      <td>Dog</td>\n",
       "      <td>Neutered Male</td>\n",
       "      <td>2 years</td>\n",
       "      <td>Pit Bull Mix</td>\n",
       "      <td>Blue/White</td>\n",
       "    </tr>\n",
       "    <tr>\n",
       "      <th>3</th>\n",
       "      <td>A683430</td>\n",
       "      <td>NaN</td>\n",
       "      <td>2014-07-11 19:09:00</td>\n",
       "      <td>Transfer</td>\n",
       "      <td>Partner</td>\n",
       "      <td>Cat</td>\n",
       "      <td>Intact Male</td>\n",
       "      <td>3 weeks</td>\n",
       "      <td>Domestic Shorthair Mix</td>\n",
       "      <td>Blue Cream</td>\n",
       "    </tr>\n",
       "    <tr>\n",
       "      <th>4</th>\n",
       "      <td>A667013</td>\n",
       "      <td>NaN</td>\n",
       "      <td>2013-11-15 12:52:00</td>\n",
       "      <td>Transfer</td>\n",
       "      <td>Partner</td>\n",
       "      <td>Dog</td>\n",
       "      <td>Neutered Male</td>\n",
       "      <td>2 years</td>\n",
       "      <td>Lhasa Apso/Miniature Poodle</td>\n",
       "      <td>Tan</td>\n",
       "    </tr>\n",
       "    <tr>\n",
       "      <th>...</th>\n",
       "      <td>...</td>\n",
       "      <td>...</td>\n",
       "      <td>...</td>\n",
       "      <td>...</td>\n",
       "      <td>...</td>\n",
       "      <td>...</td>\n",
       "      <td>...</td>\n",
       "      <td>...</td>\n",
       "      <td>...</td>\n",
       "      <td>...</td>\n",
       "    </tr>\n",
       "    <tr>\n",
       "      <th>26724</th>\n",
       "      <td>A702446</td>\n",
       "      <td>NaN</td>\n",
       "      <td>2015-05-14 11:56:00</td>\n",
       "      <td>Transfer</td>\n",
       "      <td>Partner</td>\n",
       "      <td>Cat</td>\n",
       "      <td>Intact Male</td>\n",
       "      <td>1 month</td>\n",
       "      <td>Domestic Shorthair Mix</td>\n",
       "      <td>Brown Tabby/White</td>\n",
       "    </tr>\n",
       "    <tr>\n",
       "      <th>26725</th>\n",
       "      <td>A718934</td>\n",
       "      <td>NaN</td>\n",
       "      <td>2016-01-20 18:59:00</td>\n",
       "      <td>Transfer</td>\n",
       "      <td>SCRP</td>\n",
       "      <td>Cat</td>\n",
       "      <td>Spayed Female</td>\n",
       "      <td>3 months</td>\n",
       "      <td>Domestic Shorthair Mix</td>\n",
       "      <td>Brown Tabby</td>\n",
       "    </tr>\n",
       "    <tr>\n",
       "      <th>26726</th>\n",
       "      <td>A698128</td>\n",
       "      <td>Zeus</td>\n",
       "      <td>2015-03-09 13:33:00</td>\n",
       "      <td>Adoption</td>\n",
       "      <td>NaN</td>\n",
       "      <td>Dog</td>\n",
       "      <td>Neutered Male</td>\n",
       "      <td>4 years</td>\n",
       "      <td>Old English Bulldog Mix</td>\n",
       "      <td>White/Tan</td>\n",
       "    </tr>\n",
       "    <tr>\n",
       "      <th>26727</th>\n",
       "      <td>A677478</td>\n",
       "      <td>NaN</td>\n",
       "      <td>2014-04-27 12:22:00</td>\n",
       "      <td>Transfer</td>\n",
       "      <td>Partner</td>\n",
       "      <td>Cat</td>\n",
       "      <td>Intact Male</td>\n",
       "      <td>4 weeks</td>\n",
       "      <td>Domestic Shorthair Mix</td>\n",
       "      <td>Black</td>\n",
       "    </tr>\n",
       "    <tr>\n",
       "      <th>26728</th>\n",
       "      <td>A706629</td>\n",
       "      <td>NaN</td>\n",
       "      <td>2015-07-02 09:00:00</td>\n",
       "      <td>Transfer</td>\n",
       "      <td>SCRP</td>\n",
       "      <td>Cat</td>\n",
       "      <td>Intact Male</td>\n",
       "      <td>1 year</td>\n",
       "      <td>Domestic Shorthair Mix</td>\n",
       "      <td>Brown Tabby/White</td>\n",
       "    </tr>\n",
       "  </tbody>\n",
       "</table>\n",
       "<p>26729 rows × 10 columns</p>\n",
       "</div>"
      ],
      "text/plain": [
       "      AnimalID     Name             DateTime      OutcomeType OutcomeSubtype  \\\n",
       "0      A671945  Hambone  2014-02-12 18:22:00  Return_to_owner            NaN   \n",
       "1      A656520    Emily  2013-10-13 12:44:00       Euthanasia      Suffering   \n",
       "2      A686464   Pearce  2015-01-31 12:28:00         Adoption         Foster   \n",
       "3      A683430      NaN  2014-07-11 19:09:00         Transfer        Partner   \n",
       "4      A667013      NaN  2013-11-15 12:52:00         Transfer        Partner   \n",
       "...        ...      ...                  ...              ...            ...   \n",
       "26724  A702446      NaN  2015-05-14 11:56:00         Transfer        Partner   \n",
       "26725  A718934      NaN  2016-01-20 18:59:00         Transfer           SCRP   \n",
       "26726  A698128     Zeus  2015-03-09 13:33:00         Adoption            NaN   \n",
       "26727  A677478      NaN  2014-04-27 12:22:00         Transfer        Partner   \n",
       "26728  A706629      NaN  2015-07-02 09:00:00         Transfer           SCRP   \n",
       "\n",
       "      AnimalType SexuponOutcome AgeuponOutcome                        Breed  \\\n",
       "0            Dog  Neutered Male         1 year        Shetland Sheepdog Mix   \n",
       "1            Cat  Spayed Female         1 year       Domestic Shorthair Mix   \n",
       "2            Dog  Neutered Male        2 years                 Pit Bull Mix   \n",
       "3            Cat    Intact Male        3 weeks       Domestic Shorthair Mix   \n",
       "4            Dog  Neutered Male        2 years  Lhasa Apso/Miniature Poodle   \n",
       "...          ...            ...            ...                          ...   \n",
       "26724        Cat    Intact Male        1 month       Domestic Shorthair Mix   \n",
       "26725        Cat  Spayed Female       3 months       Domestic Shorthair Mix   \n",
       "26726        Dog  Neutered Male        4 years      Old English Bulldog Mix   \n",
       "26727        Cat    Intact Male        4 weeks       Domestic Shorthair Mix   \n",
       "26728        Cat    Intact Male         1 year       Domestic Shorthair Mix   \n",
       "\n",
       "                   Color  \n",
       "0            Brown/White  \n",
       "1            Cream Tabby  \n",
       "2             Blue/White  \n",
       "3             Blue Cream  \n",
       "4                    Tan  \n",
       "...                  ...  \n",
       "26724  Brown Tabby/White  \n",
       "26725        Brown Tabby  \n",
       "26726          White/Tan  \n",
       "26727              Black  \n",
       "26728  Brown Tabby/White  \n",
       "\n",
       "[26729 rows x 10 columns]"
      ]
     },
     "execution_count": 9,
     "metadata": {},
     "output_type": "execute_result"
    }
   ],
   "source": [
    "pet_df"
   ]
  },
  {
   "cell_type": "markdown",
   "id": "e5b6d69d",
   "metadata": {},
   "source": [
    "### 3 - Clean the df"
   ]
  },
  {
   "cell_type": "code",
   "execution_count": 10,
   "id": "4a5aab87",
   "metadata": {},
   "outputs": [],
   "source": [
    "## if possible convert columns to numeric"
   ]
  },
  {
   "cell_type": "code",
   "execution_count": 11,
   "id": "31e9b3f8",
   "metadata": {},
   "outputs": [
    {
     "name": "stdout",
     "output_type": "stream",
     "text": [
      "AnimalID not numeric\n",
      "Name not numeric\n",
      "DateTime not numeric\n",
      "OutcomeType not numeric\n",
      "OutcomeSubtype not numeric\n",
      "AnimalType not numeric\n",
      "SexuponOutcome not numeric\n",
      "AgeuponOutcome not numeric\n",
      "Breed not numeric\n",
      "Color not numeric\n"
     ]
    }
   ],
   "source": [
    "mfu.to_num(pet_df)"
   ]
  },
  {
   "cell_type": "code",
   "execution_count": 12,
   "id": "435a2b67",
   "metadata": {},
   "outputs": [],
   "source": [
    "# trim white spaces from columns names"
   ]
  },
  {
   "cell_type": "code",
   "execution_count": 13,
   "id": "fc702ab0",
   "metadata": {},
   "outputs": [
    {
     "data": {
      "text/plain": [
       "Index(['AnimalID', 'Name', 'DateTime', 'OutcomeType', 'OutcomeSubtype',\n",
       "       'AnimalType', 'SexuponOutcome', 'AgeuponOutcome', 'Breed', 'Color'],\n",
       "      dtype='object')"
      ]
     },
     "execution_count": 13,
     "metadata": {},
     "output_type": "execute_result"
    }
   ],
   "source": [
    "pet_df.columns"
   ]
  },
  {
   "cell_type": "code",
   "execution_count": 14,
   "id": "62bbdee5",
   "metadata": {},
   "outputs": [],
   "source": [
    "mfu.strip_col(pet_df)"
   ]
  },
  {
   "cell_type": "code",
   "execution_count": 15,
   "id": "ea930edc",
   "metadata": {},
   "outputs": [
    {
     "data": {
      "text/plain": [
       "Index(['AnimalID', 'Name', 'DateTime', 'OutcomeType', 'OutcomeSubtype',\n",
       "       'AnimalType', 'SexuponOutcome', 'AgeuponOutcome', 'Breed', 'Color'],\n",
       "      dtype='object')"
      ]
     },
     "execution_count": 15,
     "metadata": {},
     "output_type": "execute_result"
    }
   ],
   "source": [
    "pet_df.columns"
   ]
  },
  {
   "cell_type": "code",
   "execution_count": 16,
   "id": "1b7dd333",
   "metadata": {},
   "outputs": [],
   "source": [
    "# drop rows with null/empty values"
   ]
  },
  {
   "cell_type": "code",
   "execution_count": 17,
   "id": "2e4e5ec9",
   "metadata": {},
   "outputs": [
    {
     "name": "stdout",
     "output_type": "stream",
     "text": [
      "<class 'pandas.core.frame.DataFrame'>\n",
      "RangeIndex: 26729 entries, 0 to 26728\n",
      "Data columns (total 10 columns):\n",
      " #   Column          Non-Null Count  Dtype \n",
      "---  ------          --------------  ----- \n",
      " 0   AnimalID        26729 non-null  object\n",
      " 1   Name            19038 non-null  object\n",
      " 2   DateTime        26729 non-null  object\n",
      " 3   OutcomeType     26729 non-null  object\n",
      " 4   OutcomeSubtype  13117 non-null  object\n",
      " 5   AnimalType      26729 non-null  object\n",
      " 6   SexuponOutcome  26728 non-null  object\n",
      " 7   AgeuponOutcome  26711 non-null  object\n",
      " 8   Breed           26729 non-null  object\n",
      " 9   Color           26729 non-null  object\n",
      "dtypes: object(10)\n",
      "memory usage: 2.0+ MB\n"
     ]
    }
   ],
   "source": [
    "pet_df.info()"
   ]
  },
  {
   "cell_type": "code",
   "execution_count": 18,
   "id": "58ca4f22",
   "metadata": {},
   "outputs": [],
   "source": [
    "mfu.dropna_row(pet_df,pet_df.columns)"
   ]
  },
  {
   "cell_type": "code",
   "execution_count": 19,
   "id": "297711bd",
   "metadata": {},
   "outputs": [
    {
     "name": "stdout",
     "output_type": "stream",
     "text": [
      "<class 'pandas.core.frame.DataFrame'>\n",
      "Int64Index: 6979 entries, 1 to 26721\n",
      "Data columns (total 10 columns):\n",
      " #   Column          Non-Null Count  Dtype \n",
      "---  ------          --------------  ----- \n",
      " 0   AnimalID        6979 non-null   object\n",
      " 1   Name            6979 non-null   object\n",
      " 2   DateTime        6979 non-null   object\n",
      " 3   OutcomeType     6979 non-null   object\n",
      " 4   OutcomeSubtype  6979 non-null   object\n",
      " 5   AnimalType      6979 non-null   object\n",
      " 6   SexuponOutcome  6979 non-null   object\n",
      " 7   AgeuponOutcome  6979 non-null   object\n",
      " 8   Breed           6979 non-null   object\n",
      " 9   Color           6979 non-null   object\n",
      "dtypes: object(10)\n",
      "memory usage: 599.8+ KB\n"
     ]
    }
   ],
   "source": [
    "pet_df.info()"
   ]
  },
  {
   "cell_type": "markdown",
   "id": "0894ad42",
   "metadata": {},
   "source": [
    "### 4 - Examine dataset"
   ]
  },
  {
   "cell_type": "code",
   "execution_count": 20,
   "id": "949fda38",
   "metadata": {},
   "outputs": [],
   "source": [
    "# check unique values from intersting columns"
   ]
  },
  {
   "cell_type": "code",
   "execution_count": 21,
   "id": "7bd7ffe7",
   "metadata": {},
   "outputs": [
    {
     "data": {
      "text/plain": [
       "array(['Euthanasia', 'Adoption', 'Transfer', 'Died'], dtype=object)"
      ]
     },
     "execution_count": 21,
     "metadata": {},
     "output_type": "execute_result"
    }
   ],
   "source": [
    "pet_df.OutcomeType.unique()"
   ]
  },
  {
   "cell_type": "code",
   "execution_count": 22,
   "id": "82275409",
   "metadata": {},
   "outputs": [
    {
     "data": {
      "text/plain": [
       "array(['Suffering', 'Foster', 'Partner', 'Aggressive', 'Rabies Risk',\n",
       "       'In Kennel', 'Medical', 'Offsite', 'Behavior', 'Barn', 'SCRP',\n",
       "       'In Foster', 'Court/Investigation', 'Enroute', 'At Vet',\n",
       "       'In Surgery'], dtype=object)"
      ]
     },
     "execution_count": 22,
     "metadata": {},
     "output_type": "execute_result"
    }
   ],
   "source": [
    "pet_df.OutcomeSubtype.unique()"
   ]
  },
  {
   "cell_type": "code",
   "execution_count": 23,
   "id": "cd354913",
   "metadata": {},
   "outputs": [
    {
     "data": {
      "text/plain": [
       "array(['Spayed Female', 'Neutered Male', 'Intact Female', 'Intact Male',\n",
       "       'Unknown'], dtype=object)"
      ]
     },
     "execution_count": 23,
     "metadata": {},
     "output_type": "execute_result"
    }
   ],
   "source": [
    "pet_df.SexuponOutcome.unique()"
   ]
  },
  {
   "cell_type": "code",
   "execution_count": 24,
   "id": "a905c62e",
   "metadata": {},
   "outputs": [
    {
     "data": {
      "text/plain": [
       "array(['1 year', '2 years', '1 month', '3 weeks', '4 years', '3 months',\n",
       "       '2 months', '4 months', '3 years', '11 years', '6 months',\n",
       "       '4 weeks', '12 years', '7 years', '7 months', '5 years',\n",
       "       '5 months', '6 years', '15 years', '9 years', '10 years',\n",
       "       '11 months', '8 months', '10 months', '8 years', '9 months',\n",
       "       '6 days', '13 years', '5 weeks', '14 years', '16 years', '3 days',\n",
       "       '1 week', '2 weeks', '17 years', '1 weeks', '18 years', '4 days',\n",
       "       '19 years', '20 years'], dtype=object)"
      ]
     },
     "execution_count": 24,
     "metadata": {},
     "output_type": "execute_result"
    }
   ],
   "source": [
    "pet_df.AgeuponOutcome.unique()"
   ]
  },
  {
   "cell_type": "code",
   "execution_count": 25,
   "id": "1b3b2477",
   "metadata": {},
   "outputs": [],
   "source": [
    "# we will try to reduce number of age parameters"
   ]
  },
  {
   "cell_type": "code",
   "execution_count": 26,
   "id": "00e878a4",
   "metadata": {},
   "outputs": [],
   "source": [
    "ind_age = pet_df[pet_df.AgeuponOutcome.isin(['10 years','11 years','12 years','13 years','14 years', '15 years', '16 years','17 years','18 years','19 years','20 years'])].index"
   ]
  },
  {
   "cell_type": "code",
   "execution_count": 27,
   "id": "f396a549",
   "metadata": {},
   "outputs": [],
   "source": [
    "for i in ind_age:\n",
    "    pet_df.loc[i,'AgeuponOutcome'] = '10 years or more'\n"
   ]
  },
  {
   "cell_type": "code",
   "execution_count": 28,
   "id": "46f40705",
   "metadata": {},
   "outputs": [
    {
     "data": {
      "text/plain": [
       "array(['1 year', '2 years', '1 month', '3 weeks', '4 years', '3 months',\n",
       "       '2 months', '4 months', '3 years', '10 years or more', '6 months',\n",
       "       '4 weeks', '7 years', '7 months', '5 years', '5 months', '6 years',\n",
       "       '9 years', '11 months', '8 months', '10 months', '8 years',\n",
       "       '9 months', '6 days', '5 weeks', '3 days', '1 week', '2 weeks',\n",
       "       '1 weeks', '4 days'], dtype=object)"
      ]
     },
     "execution_count": 28,
     "metadata": {},
     "output_type": "execute_result"
    }
   ],
   "source": [
    "pet_df.AgeuponOutcome.unique()"
   ]
  },
  {
   "cell_type": "code",
   "execution_count": 29,
   "id": "d695c3b7",
   "metadata": {},
   "outputs": [],
   "source": [
    "ind_age = pet_df[pet_df.AgeuponOutcome.isin(['1 month','4 weeks', '6 days','3 weeks', '3 days','1 week', '2 weeks','1 weeks','4 days'])].index\n"
   ]
  },
  {
   "cell_type": "code",
   "execution_count": 30,
   "id": "1287750f",
   "metadata": {},
   "outputs": [],
   "source": [
    "for i in ind_age:\n",
    "    pet_df.loc[i,'AgeuponOutcome'] = '1 month or less'"
   ]
  },
  {
   "cell_type": "code",
   "execution_count": 31,
   "id": "d521773d",
   "metadata": {},
   "outputs": [
    {
     "data": {
      "text/plain": [
       "array(['1 year', '2 years', '1 month or less', '4 years', '3 months',\n",
       "       '2 months', '4 months', '3 years', '10 years or more', '6 months',\n",
       "       '7 years', '7 months', '5 years', '5 months', '6 years', '9 years',\n",
       "       '11 months', '8 months', '10 months', '8 years', '9 months',\n",
       "       '5 weeks'], dtype=object)"
      ]
     },
     "execution_count": 31,
     "metadata": {},
     "output_type": "execute_result"
    }
   ],
   "source": [
    "pet_df.AgeuponOutcome.unique()"
   ]
  },
  {
   "cell_type": "code",
   "execution_count": 32,
   "id": "2877a327",
   "metadata": {},
   "outputs": [],
   "source": [
    "ind_age = pet_df[pet_df.AgeuponOutcome.isin(['1 year','3 months','5 months','2 months','4 months','6 months','7 months',' 5 months','11 months', '8 months','10 months','9 months','5 weeks' ])].index"
   ]
  },
  {
   "cell_type": "code",
   "execution_count": 33,
   "id": "e50f0255",
   "metadata": {},
   "outputs": [],
   "source": [
    "for i in ind_age:\n",
    "    pet_df.loc[i,'AgeuponOutcome'] = '> 1 month and < 1 year'"
   ]
  },
  {
   "cell_type": "code",
   "execution_count": 34,
   "id": "9603bc4d",
   "metadata": {},
   "outputs": [
    {
     "data": {
      "text/plain": [
       "array(['> 1 month and < 1 year', '2 years', '1 month or less', '4 years',\n",
       "       '3 years', '10 years or more', '7 years', '5 years', '6 years',\n",
       "       '9 years', '8 years'], dtype=object)"
      ]
     },
     "execution_count": 34,
     "metadata": {},
     "output_type": "execute_result"
    }
   ],
   "source": [
    "pet_df.AgeuponOutcome.unique()"
   ]
  },
  {
   "cell_type": "code",
   "execution_count": 35,
   "id": "4b9f2bdd",
   "metadata": {},
   "outputs": [],
   "source": [
    "order_bins =['1 month or less','> 1 month and < 1 year','2 years','3 years','4 years','5 years','6 years','7 years','8 years','9 years','10 years or more']\n",
    "pet_df['AgeuponOutcome_Cat'] = pd.Categorical(pet_df['AgeuponOutcome'], order_bins)\n"
   ]
  },
  {
   "cell_type": "code",
   "execution_count": 36,
   "id": "efbe07e6",
   "metadata": {},
   "outputs": [
    {
     "data": {
      "text/plain": [
       "Text(0.5, 1.0, 'Distribution of pets by Age of outcome')"
      ]
     },
     "execution_count": 36,
     "metadata": {},
     "output_type": "execute_result"
    },
    {
     "data": {
      "image/png": "[encoded data removed]",
      "text/plain": [
       "<Figure size 576x576 with 1 Axes>"
      ]
     },
     "metadata": {
      "needs_background": "light"
     },
     "output_type": "display_data"
    }
   ],
   "source": [
    "import matplotlib.pyplot as plt\n",
    "fig, ax = plt.subplots()\n",
    "fig.set_size_inches(8,8)\n",
    "\n",
    "bar = sns.histplot(data=pet_df,x='AgeuponOutcome_Cat')\n",
    "                                                            \n",
    "from matplotlib.ticker import ScalarFormatter as SF\n",
    "from matplotlib.ticker import MultipleLocator as ML\n",
    "ax.xaxis.set_minor_locator(ML())\n",
    "ax.xaxis.set_minor_formatter(SF())\n",
    "ax.tick_params(axis='x',rotation=90)\n",
    "ax.set_title('Distribution of pets by Age of outcome')\n"
   ]
  },
  {
   "cell_type": "code",
   "execution_count": 37,
   "id": "99ea48c3",
   "metadata": {},
   "outputs": [
    {
     "data": {
      "text/plain": [
       "Text(0.5, 1.0, 'Distribution of dogs by Age of outcome')"
      ]
     },
     "execution_count": 37,
     "metadata": {},
     "output_type": "execute_result"
    },
    {
     "data": {
      "image/png": "[encoded data removed]",
      "text/plain": [
       "<Figure size 576x576 with 1 Axes>"
      ]
     },
     "metadata": {
      "needs_background": "light"
     },
     "output_type": "display_data"
    }
   ],
   "source": [
    "fig, ax = plt.subplots()\n",
    "fig.set_size_inches(8,8)\n",
    "bar = sns.histplot(data=pet_df[pet_df.AnimalType == 'Dog'],x='AgeuponOutcome_Cat',color='green')                                                           \n",
    "from matplotlib.ticker import ScalarFormatter as SF\n",
    "from matplotlib.ticker import MultipleLocator as ML\n",
    "ax.xaxis.set_minor_locator(ML())\n",
    "ax.xaxis.set_minor_formatter(SF())\n",
    "ax.tick_params(axis='x',rotation=90)\n",
    "ax.set_title('Distribution of dogs by Age of outcome')"
   ]
  },
  {
   "cell_type": "code",
   "execution_count": 38,
   "id": "774f73e6",
   "metadata": {},
   "outputs": [
    {
     "data": {
      "text/plain": [
       "Text(0.5, 1.0, 'Distribution of cats by Age of outcome')"
      ]
     },
     "execution_count": 38,
     "metadata": {},
     "output_type": "execute_result"
    },
    {
     "data": {
      "image/png": "[encoded data removed]",
      "text/plain": [
       "<Figure size 576x576 with 1 Axes>"
      ]
     },
     "metadata": {
      "needs_background": "light"
     },
     "output_type": "display_data"
    }
   ],
   "source": [
    "fig, ax = plt.subplots()\n",
    "fig.set_size_inches(8,8)\n",
    "bar = sns.histplot(data=pet_df[pet_df.AnimalType == 'Cat'],x='AgeuponOutcome_Cat',color='orange')                                                           \n",
    "from matplotlib.ticker import ScalarFormatter as SF\n",
    "from matplotlib.ticker import MultipleLocator as ML\n",
    "ax.xaxis.set_minor_locator(ML())\n",
    "ax.xaxis.set_minor_formatter(SF())\n",
    "ax.tick_params(axis='x',rotation=90)\n",
    "ax.set_title('Distribution of cats by Age of outcome')"
   ]
  },
  {
   "cell_type": "markdown",
   "id": "228b9839",
   "metadata": {},
   "source": [
    "### parece que la mayoria de Outcomes ocurren cuando los animales tienen más de 1 mes pero menos de 1 año"
   ]
  },
  {
   "cell_type": "code",
   "execution_count": 39,
   "id": "8c5d379e",
   "metadata": {},
   "outputs": [
    {
     "data": {
      "text/plain": [
       "<AxesSubplot:xlabel='OutcomeType', ylabel='Count'>"
      ]
     },
     "execution_count": 39,
     "metadata": {},
     "output_type": "execute_result"
    },
    {
     "data": {
      "image/png": "[encoded data removed]",
      "text/plain": [
       "<Figure size 432x288 with 1 Axes>"
      ]
     },
     "metadata": {
      "needs_background": "light"
     },
     "output_type": "display_data"
    }
   ],
   "source": [
    "sns.histplot(data=pet_df[pet_df['AgeuponOutcome_Cat'] == '> 1 month and < 1 year'], x='OutcomeType')"
   ]
  },
  {
   "cell_type": "markdown",
   "id": "dbc5eac5",
   "metadata": {},
   "source": [
    "#### la gran mayoria de Outcomes son \"positivos\": adopciones definitivas o transferencias de custodio"
   ]
  },
  {
   "cell_type": "markdown",
   "id": "ef88c3b9",
   "metadata": {},
   "source": [
    "### procedemos a ver que pasa a partir de los 2 años"
   ]
  },
  {
   "cell_type": "code",
   "execution_count": 40,
   "id": "260a2269",
   "metadata": {},
   "outputs": [
    {
     "data": {
      "text/plain": [
       "<AxesSubplot:xlabel='OutcomeType', ylabel='Count'>"
      ]
     },
     "execution_count": 40,
     "metadata": {},
     "output_type": "execute_result"
    },
    {
     "data": {
      "image/png": "[encoded data removed]",
      "text/plain": [
       "<Figure size 432x288 with 1 Axes>"
      ]
     },
     "metadata": {
      "needs_background": "light"
     },
     "output_type": "display_data"
    }
   ],
   "source": [
    "sns.histplot(data=pet_df[pet_df['AgeuponOutcome_Cat'].isin(['2 years','3 years','4 years','5 years',\n",
    "                                                           '6 years','7 years','8 years','9 years',\n",
    "                                                            '10 years or more'])], x='OutcomeType')"
   ]
  },
  {
   "cell_type": "markdown",
   "id": "1f5e69ef",
   "metadata": {},
   "source": [
    "#### parece que la conforme la edad aumenta ,  las adopciones disminuyen y las eutanasias aumentan"
   ]
  },
  {
   "cell_type": "code",
   "execution_count": 87,
   "id": "4461d4a5",
   "metadata": {},
   "outputs": [
    {
     "name": "stderr",
     "output_type": "stream",
     "text": [
      "/var/folders/34/shcpc0k13hndsp05mm2j01th0000gn/T/ipykernel_26553/1865372496.py:3: UserWarning: FixedFormatter should only be used together with FixedLocator\n",
      "  _plot.set_xticklabels(labels=['1 month or less','> 1 month and < 1 year','2 years',\n"
     ]
    },
    {
     "data": {
      "text/plain": [
       "[Text(0, 0, '1 month or less'),\n",
       " Text(1, 0, '> 1 month and < 1 year'),\n",
       " Text(2, 0, '2 years'),\n",
       " Text(3, 0, '3 years'),\n",
       " Text(4, 0, '4 years'),\n",
       " Text(5, 0, '5 years'),\n",
       " Text(6, 0, '6 years'),\n",
       " Text(7, 0, '7 years'),\n",
       " Text(8, 0, '8 years'),\n",
       " Text(9, 0, '9 years'),\n",
       " Text(10, 0, '10 years or more')]"
      ]
     },
     "execution_count": 87,
     "metadata": {},
     "output_type": "execute_result"
    },
    {
     "data": {
      "image/png": "[encoded data removed]",
      "text/plain": [
       "<Figure size 720x720 with 1 Axes>"
      ]
     },
     "metadata": {},
     "output_type": "display_data"
    }
   ],
   "source": [
    "plt.figure(figsize=(10,10))\n",
    "_plot = sns.histplot(data=pet_df,x='AgeuponOutcome_Cat',hue='OutcomeType')\n",
    "_plot.set_xticklabels(labels=['1 month or less','> 1 month and < 1 year','2 years',\n",
    "                             '3 years','4 years','5 years',\n",
    "                             '6 years','7 years','8 years',\n",
    "                             '9 years','10 years or more'] , rotation=90, horizontalalignment='right')"
   ]
  },
  {
   "cell_type": "markdown",
   "id": "607dc0d8",
   "metadata": {},
   "source": [
    "### todo parece indicar que la edad tiene una correlación negativa con el indice de adopción y quizá positiva con la eutanasia"
   ]
  },
  {
   "cell_type": "code",
   "execution_count": 116,
   "id": "944fd09d",
   "metadata": {},
   "outputs": [
    {
     "data": {
      "text/plain": [
       "<AxesSubplot:xlabel='AgeuponOutcome_Cat', ylabel='OutcomeType'>"
      ]
     },
     "execution_count": 116,
     "metadata": {},
     "output_type": "execute_result"
    },
    {
     "data": {
      "image/png": "[encoded data removed]",
      "text/plain": [
       "<Figure size 576x432 with 2 Axes>"
      ]
     },
     "metadata": {},
     "output_type": "display_data"
    }
   ],
   "source": [
    "plt.figure(figsize=(8,6))\n",
    "cross_outage = pd.crosstab(pet_df.OutcomeType[pet_df.OutcomeType.isin(['Adoption','Euthanasia'])],pet_df.AgeuponOutcome_Cat,margins=True)\n",
    "sns.heatmap(cross_outage,cmap='Blues',annot=True)"
   ]
  },
  {
   "cell_type": "code",
   "execution_count": 117,
   "id": "74d36960",
   "metadata": {},
   "outputs": [],
   "source": [
    "from scipy.stats import chi2_contingency \n",
    "OutcomeAge = cross_outage\n",
    "value = np.array([OutcomeAge.iloc[0][0:].values,\n",
    "                  OutcomeAge.iloc[1][0:].values,\n",
    "                  OutcomeAge.iloc[2][0:].values\n",
    "                 ])"
   ]
  },
  {
   "cell_type": "code",
   "execution_count": 118,
   "id": "76f7083c",
   "metadata": {},
   "outputs": [],
   "source": [
    "z,p, degrees = chi2_contingency(value)[0:3]"
   ]
  },
  {
   "cell_type": "code",
   "execution_count": 120,
   "id": "f92d6f5a",
   "metadata": {},
   "outputs": [
    {
     "name": "stdout",
     "output_type": "stream",
     "text": [
      "z-statistic is 641.1999082697452\n",
      "p is 1.900193798576057e-121\n",
      "degrees of freedom are 22\n"
     ]
    }
   ],
   "source": [
    "print(f'z-statistic is {z}\\np is {p}\\ndegrees of freedom are {degrees}')\n"
   ]
  },
  {
   "cell_type": "markdown",
   "id": "9a7964e1",
   "metadata": {},
   "source": [
    "#### ya que p < 0.05 rechazamos Hipotesis de que las variables son independientes"
   ]
  },
  {
   "cell_type": "markdown",
   "id": "c645e141",
   "metadata": {},
   "source": [
    "### Ver que color es el menos adoptado. "
   ]
  },
  {
   "cell_type": "markdown",
   "id": "a02fe47c",
   "metadata": {},
   "source": [
    "#### Distribución de los colores más tipicos"
   ]
  },
  {
   "cell_type": "code",
   "execution_count": 42,
   "id": "a663b2a8",
   "metadata": {},
   "outputs": [
    {
     "data": {
      "text/plain": [
       "<seaborn.axisgrid.FacetGrid at 0x7f9541bd8e50>"
      ]
     },
     "execution_count": 42,
     "metadata": {},
     "output_type": "execute_result"
    },
    {
     "data": {
      "text/plain": [
       "<Figure size 720x720 with 0 Axes>"
      ]
     },
     "metadata": {},
     "output_type": "display_data"
    },
    {
     "data": {
      "image/png": "[encoded data removed]",
      "text/plain": [
       "<Figure size 420.375x360 with 1 Axes>"
      ]
     },
     "metadata": {},
     "output_type": "display_data"
    }
   ],
   "source": [
    "plt.figure(figsize=(10,10))\n",
    "sns.set_style(\"whitegrid\")\n",
    "_plot = sns.catplot(data=pet_df[pet_df.Color.isin(pet_df.Color.value_counts().nlargest(14).index)],x='Color',kind='count',hue='AnimalType')\n",
    "_plot.set_xticklabels( rotation=90, horizontalalignment='right')\n"
   ]
  },
  {
   "cell_type": "markdown",
   "id": "1b80807d",
   "metadata": {},
   "source": [
    "#### Si intentamos ver cual es el color \"suelto\" más presente en perreras"
   ]
  },
  {
   "cell_type": "code",
   "execution_count": 43,
   "id": "fa365d3d",
   "metadata": {},
   "outputs": [
    {
     "data": {
      "text/plain": [
       "array(['Cream Tabby', 'Blue/White', 'Black/Tan', 'Blue Tabby', 'Brown',\n",
       "       'Orange Tabby/White', 'White', 'Black/White', 'Orange Tabby',\n",
       "       'Brown Tabby', 'Brown/Black', 'Black', 'Buff',\n",
       "       'Brown Brindle/White', 'Tan', 'Seal Point', 'Brown Brindle',\n",
       "       'White/Black', 'Torbie', 'Yellow Brindle/White', 'White/Brown',\n",
       "       'Calico', 'Flame Point', 'Tricolor', 'Brown Tabby/White',\n",
       "       'Brown/White', 'Red', 'Black Tabby/White', 'Tortie', 'Tan/White',\n",
       "       'White/Tan', 'Yellow', 'Brown Tiger/White', 'Blue Merle/White',\n",
       "       'Blue', 'Buff/Tan', 'Chocolate/White', 'Lilac Point',\n",
       "       'White/Orange Tabby', 'Tortie/White', 'White/Cream Tabby',\n",
       "       'Blue Tiger/White', 'Gray', 'Blue Tick', 'Black/Brown', 'Sable',\n",
       "       'White/Gray', 'White/Blue', 'Cream Tabby/White', 'Brown/Tan',\n",
       "       'Red/White', 'Tan/Black', 'Torbie/White', 'Blue Tabby/Orange',\n",
       "       'Blue Point', 'Yellow/White', 'Cream', 'Blue Cream/Blue Tiger',\n",
       "       'Blue Merle/Gray', 'Chocolate/Tan', 'Tortie Point/Lynx Point',\n",
       "       'Black Brindle/White', 'Lynx Point', 'Blue Tabby/White', 'Fawn',\n",
       "       'Black Tabby', 'Brown Merle', 'White/Red', 'White/Brown Brindle',\n",
       "       'Brown/Brown', 'Fawn/White', 'Cream/White', 'White/Cream',\n",
       "       'Blue/Tan', 'Chocolate', 'Brown Brindle/Black', 'Blue Merle',\n",
       "       'Black/Tricolor', 'Gray/White', 'Red Tick/White', 'Silver/Brown',\n",
       "       'Black/Brown Brindle', 'Black Smoke/White', 'Black Brindle',\n",
       "       'Black/Blue Merle', 'Brown/Tricolor', 'Silver Tabby',\n",
       "       'White/White', 'Red Merle', 'White/Tricolor', 'Buff/White',\n",
       "       'Tortie Point', 'White/Chocolate', 'White/Brown Tabby',\n",
       "       'Sable/White', 'Red/Gold', 'White/Buff', 'Blue Tabby/Blue Cream',\n",
       "       'Seal Point/White', 'Tan/Brown', 'Gold', 'Black/Black',\n",
       "       'White/Blue Cream', 'Blue Point/White', 'Sable/Black',\n",
       "       'White/Orange', 'Calico Point', 'Red/Black', 'Fawn/Tricolor',\n",
       "       'Tortie/Blue Cream', 'Black Smoke', 'Sable/Brown', 'Buff/Red',\n",
       "       'Tan/Brown Brindle', 'Calico/Brown Tabby', 'Blue Tick/White',\n",
       "       'Blue Merle/Brown', 'Orange/Tan', 'Fawn/Black',\n",
       "       'White/Black Brindle', 'Blue Tick/Black', 'Red/Cream', 'Orange',\n",
       "       'Red Merle/White', 'Red/Blue', 'Blue Smoke/Brown', 'Black/Red',\n",
       "       'Gold/White', 'Buff/Black', 'Brown Merle/Black', 'Black/Gray',\n",
       "       'White/Blue Merle', 'Chocolate Point', 'Chocolate Point/White',\n",
       "       'Tortie/Brown', 'Blue Merle/Tan', 'Tan/Tan',\n",
       "       'Chocolate/Black Smoke', 'White/Brown Merle', 'Brown/Red',\n",
       "       'Tricolor/White', 'Calico/White', 'White/Yellow', 'Yellow Brindle',\n",
       "       'Lynx Point/Brown Tabby', 'Torbie/Brown', 'Chocolate/Black',\n",
       "       'Brown Tabby/Black', 'Black/Blue', 'Gray/Silver',\n",
       "       'Blue/Brown Brindle', 'Silver Lynx Point', 'Blue Merle/Tricolor',\n",
       "       'Red/Tan', 'Tortie/Black', 'White/Blue Tabby', 'Chocolate/Red',\n",
       "       'Tan/Buff', 'Tan/Cream', 'Calico/Black', 'Blue Merle/Black',\n",
       "       'Gray Tabby/White', 'Red/Tricolor', 'Red Tick', 'Silver/Tan',\n",
       "       'Tricolor/Chocolate', 'Gold/Gold', 'Brown/Gray',\n",
       "       'Red Tick/Blue Tick', 'Seal Point/Brown', 'Tan/Silver',\n",
       "       'Brown Merle/White', 'Blue Cream/Buff', 'Black Brindle/Brown',\n",
       "       'Blue/Orange', 'White/Pink', 'Sable/Cream', 'Sable/Tan',\n",
       "       'Blue/Black', 'Cream/Tan', 'White/Liver', 'Orange/White',\n",
       "       'Blue Tick/Red Tick', 'Brown Brindle/Blue', 'Blue Merle/Red',\n",
       "       'Blue/Brown', 'Calico/Orange Tabby', 'Cream/Gray',\n",
       "       'Tricolor/Brown', 'Apricot/Brown', 'Tan/Blue', 'Cream/Black',\n",
       "       'Apricot', 'Fawn/Brown', 'Blue Cream', 'White/Red Tick',\n",
       "       'Gray/Black', 'White/Blue Tick', 'Gray/Red', 'Tricolor/Black',\n",
       "       'Silver Tabby/White', 'Blue Tick/Brown Brindle',\n",
       "       'Liver Tick/White', 'Gray/Tan', 'Lynx Point/Gray Tabby',\n",
       "       'Tan/Tricolor', 'Brown/Cream', 'Silver Tabby/Black', 'White/Gold',\n",
       "       'Tortie/Black Smoke', 'Black/Black Brindle', 'Black/Brown Merle',\n",
       "       'Tan/Gray', 'Lynx Point/White', 'Brown Tiger', 'Liver Tick',\n",
       "       'Brown Tabby/Orange', 'Red/Buff', 'Tan/Yellow Brindle', 'Fawn/Tan',\n",
       "       'Black Brindle/Brown Brindle', 'Calico/Blue Tabby', 'Orange Tiger',\n",
       "       'Gold/Buff', 'Fawn/Blue', 'Black/Cream'], dtype=object)"
      ]
     },
     "execution_count": 43,
     "metadata": {},
     "output_type": "execute_result"
    }
   ],
   "source": [
    "pet_df.Color.unique() ## necesario bag of words"
   ]
  },
  {
   "cell_type": "code",
   "execution_count": 44,
   "id": "0bfaa67f",
   "metadata": {},
   "outputs": [],
   "source": [
    "# we split all colors that contain \"/\" in different words\n",
    "bog_split = []\n",
    "for j in [i.split('/') for i in pet_df.Color.unique()]:\n",
    "    for x in j:\n",
    "        bog_split.append(x)"
   ]
  },
  {
   "cell_type": "code",
   "execution_count": 45,
   "id": "b52c5b32",
   "metadata": {},
   "outputs": [
    {
     "data": {
      "text/plain": [
       "['Cream Tabby',\n",
       " 'Blue',\n",
       " 'White',\n",
       " 'Black',\n",
       " 'Tan',\n",
       " 'Blue Tabby',\n",
       " 'Brown',\n",
       " 'Orange Tabby',\n",
       " 'White',\n",
       " 'White',\n",
       " 'Black',\n",
       " 'White',\n",
       " 'Orange Tabby',\n",
       " 'Brown Tabby',\n",
       " 'Brown',\n",
       " 'Black',\n",
       " 'Black',\n",
       " 'Buff',\n",
       " 'Brown Brindle',\n",
       " 'White',\n",
       " 'Tan',\n",
       " 'Seal Point',\n",
       " 'Brown Brindle',\n",
       " 'White',\n",
       " 'Black',\n",
       " 'Torbie',\n",
       " 'Yellow Brindle',\n",
       " 'White',\n",
       " 'White',\n",
       " 'Brown',\n",
       " 'Calico',\n",
       " 'Flame Point',\n",
       " 'Tricolor',\n",
       " 'Brown Tabby',\n",
       " 'White',\n",
       " 'Brown',\n",
       " 'White',\n",
       " 'Red',\n",
       " 'Black Tabby',\n",
       " 'White',\n",
       " 'Tortie',\n",
       " 'Tan',\n",
       " 'White',\n",
       " 'White',\n",
       " 'Tan',\n",
       " 'Yellow',\n",
       " 'Brown Tiger',\n",
       " 'White',\n",
       " 'Blue Merle',\n",
       " 'White',\n",
       " 'Blue',\n",
       " 'Buff',\n",
       " 'Tan',\n",
       " 'Chocolate',\n",
       " 'White',\n",
       " 'Lilac Point',\n",
       " 'White',\n",
       " 'Orange Tabby',\n",
       " 'Tortie',\n",
       " 'White',\n",
       " 'White',\n",
       " 'Cream Tabby',\n",
       " 'Blue Tiger',\n",
       " 'White',\n",
       " 'Gray',\n",
       " 'Blue Tick',\n",
       " 'Black',\n",
       " 'Brown',\n",
       " 'Sable',\n",
       " 'White',\n",
       " 'Gray',\n",
       " 'White',\n",
       " 'Blue',\n",
       " 'Cream Tabby',\n",
       " 'White',\n",
       " 'Brown',\n",
       " 'Tan',\n",
       " 'Red',\n",
       " 'White',\n",
       " 'Tan',\n",
       " 'Black',\n",
       " 'Torbie',\n",
       " 'White',\n",
       " 'Blue Tabby',\n",
       " 'Orange',\n",
       " 'Blue Point',\n",
       " 'Yellow',\n",
       " 'White',\n",
       " 'Cream',\n",
       " 'Blue Cream',\n",
       " 'Blue Tiger',\n",
       " 'Blue Merle',\n",
       " 'Gray',\n",
       " 'Chocolate',\n",
       " 'Tan',\n",
       " 'Tortie Point',\n",
       " 'Lynx Point',\n",
       " 'Black Brindle',\n",
       " 'White',\n",
       " 'Lynx Point',\n",
       " 'Blue Tabby',\n",
       " 'White',\n",
       " 'Fawn',\n",
       " 'Black Tabby',\n",
       " 'Brown Merle',\n",
       " 'White',\n",
       " 'Red',\n",
       " 'White',\n",
       " 'Brown Brindle',\n",
       " 'Brown',\n",
       " 'Brown',\n",
       " 'Fawn',\n",
       " 'White',\n",
       " 'Cream',\n",
       " 'White',\n",
       " 'White',\n",
       " 'Cream',\n",
       " 'Blue',\n",
       " 'Tan',\n",
       " 'Chocolate',\n",
       " 'Brown Brindle',\n",
       " 'Black',\n",
       " 'Blue Merle',\n",
       " 'Black',\n",
       " 'Tricolor',\n",
       " 'Gray',\n",
       " 'White',\n",
       " 'Red Tick',\n",
       " 'White',\n",
       " 'Silver',\n",
       " 'Brown',\n",
       " 'Black',\n",
       " 'Brown Brindle',\n",
       " 'Black Smoke',\n",
       " 'White',\n",
       " 'Black Brindle',\n",
       " 'Black',\n",
       " 'Blue Merle',\n",
       " 'Brown',\n",
       " 'Tricolor',\n",
       " 'Silver Tabby',\n",
       " 'White',\n",
       " 'White',\n",
       " 'Red Merle',\n",
       " 'White',\n",
       " 'Tricolor',\n",
       " 'Buff',\n",
       " 'White',\n",
       " 'Tortie Point',\n",
       " 'White',\n",
       " 'Chocolate',\n",
       " 'White',\n",
       " 'Brown Tabby',\n",
       " 'Sable',\n",
       " 'White',\n",
       " 'Red',\n",
       " 'Gold',\n",
       " 'White',\n",
       " 'Buff',\n",
       " 'Blue Tabby',\n",
       " 'Blue Cream',\n",
       " 'Seal Point',\n",
       " 'White',\n",
       " 'Tan',\n",
       " 'Brown',\n",
       " 'Gold',\n",
       " 'Black',\n",
       " 'Black',\n",
       " 'White',\n",
       " 'Blue Cream',\n",
       " 'Blue Point',\n",
       " 'White',\n",
       " 'Sable',\n",
       " 'Black',\n",
       " 'White',\n",
       " 'Orange',\n",
       " 'Calico Point',\n",
       " 'Red',\n",
       " 'Black',\n",
       " 'Fawn',\n",
       " 'Tricolor',\n",
       " 'Tortie',\n",
       " 'Blue Cream',\n",
       " 'Black Smoke',\n",
       " 'Sable',\n",
       " 'Brown',\n",
       " 'Buff',\n",
       " 'Red',\n",
       " 'Tan',\n",
       " 'Brown Brindle',\n",
       " 'Calico',\n",
       " 'Brown Tabby',\n",
       " 'Blue Tick',\n",
       " 'White',\n",
       " 'Blue Merle',\n",
       " 'Brown',\n",
       " 'Orange',\n",
       " 'Tan',\n",
       " 'Fawn',\n",
       " 'Black',\n",
       " 'White',\n",
       " 'Black Brindle',\n",
       " 'Blue Tick',\n",
       " 'Black',\n",
       " 'Red',\n",
       " 'Cream',\n",
       " 'Orange',\n",
       " 'Red Merle',\n",
       " 'White',\n",
       " 'Red',\n",
       " 'Blue',\n",
       " 'Blue Smoke',\n",
       " 'Brown',\n",
       " 'Black',\n",
       " 'Red',\n",
       " 'Gold',\n",
       " 'White',\n",
       " 'Buff',\n",
       " 'Black',\n",
       " 'Brown Merle',\n",
       " 'Black',\n",
       " 'Black',\n",
       " 'Gray',\n",
       " 'White',\n",
       " 'Blue Merle',\n",
       " 'Chocolate Point',\n",
       " 'Chocolate Point',\n",
       " 'White',\n",
       " 'Tortie',\n",
       " 'Brown',\n",
       " 'Blue Merle',\n",
       " 'Tan',\n",
       " 'Tan',\n",
       " 'Tan',\n",
       " 'Chocolate',\n",
       " 'Black Smoke',\n",
       " 'White',\n",
       " 'Brown Merle',\n",
       " 'Brown',\n",
       " 'Red',\n",
       " 'Tricolor',\n",
       " 'White',\n",
       " 'Calico',\n",
       " 'White',\n",
       " 'White',\n",
       " 'Yellow',\n",
       " 'Yellow Brindle',\n",
       " 'Lynx Point',\n",
       " 'Brown Tabby',\n",
       " 'Torbie',\n",
       " 'Brown',\n",
       " 'Chocolate',\n",
       " 'Black',\n",
       " 'Brown Tabby',\n",
       " 'Black',\n",
       " 'Black',\n",
       " 'Blue',\n",
       " 'Gray',\n",
       " 'Silver',\n",
       " 'Blue',\n",
       " 'Brown Brindle',\n",
       " 'Silver Lynx Point',\n",
       " 'Blue Merle',\n",
       " 'Tricolor',\n",
       " 'Red',\n",
       " 'Tan',\n",
       " 'Tortie',\n",
       " 'Black',\n",
       " 'White',\n",
       " 'Blue Tabby',\n",
       " 'Chocolate',\n",
       " 'Red',\n",
       " 'Tan',\n",
       " 'Buff',\n",
       " 'Tan',\n",
       " 'Cream',\n",
       " 'Calico',\n",
       " 'Black',\n",
       " 'Blue Merle',\n",
       " 'Black',\n",
       " 'Gray Tabby',\n",
       " 'White',\n",
       " 'Red',\n",
       " 'Tricolor',\n",
       " 'Red Tick',\n",
       " 'Silver',\n",
       " 'Tan',\n",
       " 'Tricolor',\n",
       " 'Chocolate',\n",
       " 'Gold',\n",
       " 'Gold',\n",
       " 'Brown',\n",
       " 'Gray',\n",
       " 'Red Tick',\n",
       " 'Blue Tick',\n",
       " 'Seal Point',\n",
       " 'Brown',\n",
       " 'Tan',\n",
       " 'Silver',\n",
       " 'Brown Merle',\n",
       " 'White',\n",
       " 'Blue Cream',\n",
       " 'Buff',\n",
       " 'Black Brindle',\n",
       " 'Brown',\n",
       " 'Blue',\n",
       " 'Orange',\n",
       " 'White',\n",
       " 'Pink',\n",
       " 'Sable',\n",
       " 'Cream',\n",
       " 'Sable',\n",
       " 'Tan',\n",
       " 'Blue',\n",
       " 'Black',\n",
       " 'Cream',\n",
       " 'Tan',\n",
       " 'White',\n",
       " 'Liver',\n",
       " 'Orange',\n",
       " 'White',\n",
       " 'Blue Tick',\n",
       " 'Red Tick',\n",
       " 'Brown Brindle',\n",
       " 'Blue',\n",
       " 'Blue Merle',\n",
       " 'Red',\n",
       " 'Blue',\n",
       " 'Brown',\n",
       " 'Calico',\n",
       " 'Orange Tabby',\n",
       " 'Cream',\n",
       " 'Gray',\n",
       " 'Tricolor',\n",
       " 'Brown',\n",
       " 'Apricot',\n",
       " 'Brown',\n",
       " 'Tan',\n",
       " 'Blue',\n",
       " 'Cream',\n",
       " 'Black',\n",
       " 'Apricot',\n",
       " 'Fawn',\n",
       " 'Brown',\n",
       " 'Blue Cream',\n",
       " 'White',\n",
       " 'Red Tick',\n",
       " 'Gray',\n",
       " 'Black',\n",
       " 'White',\n",
       " 'Blue Tick',\n",
       " 'Gray',\n",
       " 'Red',\n",
       " 'Tricolor',\n",
       " 'Black',\n",
       " 'Silver Tabby',\n",
       " 'White',\n",
       " 'Blue Tick',\n",
       " 'Brown Brindle',\n",
       " 'Liver Tick',\n",
       " 'White',\n",
       " 'Gray',\n",
       " 'Tan',\n",
       " 'Lynx Point',\n",
       " 'Gray Tabby',\n",
       " 'Tan',\n",
       " 'Tricolor',\n",
       " 'Brown',\n",
       " 'Cream',\n",
       " 'Silver Tabby',\n",
       " 'Black',\n",
       " 'White',\n",
       " 'Gold',\n",
       " 'Tortie',\n",
       " 'Black Smoke',\n",
       " 'Black',\n",
       " 'Black Brindle',\n",
       " 'Black',\n",
       " 'Brown Merle',\n",
       " 'Tan',\n",
       " 'Gray',\n",
       " 'Lynx Point',\n",
       " 'White',\n",
       " 'Brown Tiger',\n",
       " 'Liver Tick',\n",
       " 'Brown Tabby',\n",
       " 'Orange',\n",
       " 'Red',\n",
       " 'Buff',\n",
       " 'Tan',\n",
       " 'Yellow Brindle',\n",
       " 'Fawn',\n",
       " 'Tan',\n",
       " 'Black Brindle',\n",
       " 'Brown Brindle',\n",
       " 'Calico',\n",
       " 'Blue Tabby',\n",
       " 'Orange Tiger',\n",
       " 'Gold',\n",
       " 'Buff',\n",
       " 'Fawn',\n",
       " 'Blue',\n",
       " 'Black',\n",
       " 'Cream']"
      ]
     },
     "execution_count": 45,
     "metadata": {},
     "output_type": "execute_result"
    }
   ],
   "source": [
    "bog_split"
   ]
  },
  {
   "cell_type": "code",
   "execution_count": 46,
   "id": "6f48efe7",
   "metadata": {},
   "outputs": [
    {
     "data": {
      "text/plain": [
       "{'White': 70,\n",
       " 'Brown': 49,\n",
       " 'Blue': 47,\n",
       " 'Black': 47,\n",
       " 'Tan': 28,\n",
       " 'Tabby': 27,\n",
       " 'Red': 23,\n",
       " 'Cream': 20,\n",
       " 'Brindle': 19,\n",
       " 'Point': 18,\n",
       " 'Merle': 17,\n",
       " 'Gray': 14,\n",
       " 'Tick': 14,\n",
       " 'Orange': 12,\n",
       " 'Tricolor': 12,\n",
       " 'Buff': 10,\n",
       " 'Chocolate': 10,\n",
       " 'Tortie': 8,\n",
       " 'Silver': 8,\n",
       " 'Calico': 7,\n",
       " 'Fawn': 7,\n",
       " 'Gold': 7,\n",
       " 'Yellow': 6,\n",
       " 'Sable': 6,\n",
       " 'Lynx': 6,\n",
       " 'Tiger': 5,\n",
       " 'Smoke': 5,\n",
       " 'Seal': 3,\n",
       " 'Torbie': 3,\n",
       " 'Liver': 3,\n",
       " 'Apricot': 2,\n",
       " 'Flame': 1,\n",
       " 'Lilac': 1,\n",
       " 'Pink': 1}"
      ]
     },
     "execution_count": 46,
     "metadata": {},
     "output_type": "execute_result"
    }
   ],
   "source": [
    "mfu.bog(bog_split) "
   ]
  },
  {
   "cell_type": "code",
   "execution_count": 47,
   "id": "fd3beb82",
   "metadata": {},
   "outputs": [],
   "source": [
    "bog_colors = pd.Series(mfu.bog(bog_split))"
   ]
  },
  {
   "cell_type": "code",
   "execution_count": 48,
   "id": "6a6b47e7",
   "metadata": {},
   "outputs": [
    {
     "data": {
      "text/plain": [
       "White        70\n",
       "Brown        49\n",
       "Blue         47\n",
       "Black        47\n",
       "Tan          28\n",
       "Tabby        27\n",
       "Red          23\n",
       "Cream        20\n",
       "Brindle      19\n",
       "Point        18\n",
       "Merle        17\n",
       "Gray         14\n",
       "Tick         14\n",
       "Orange       12\n",
       "Tricolor     12\n",
       "Buff         10\n",
       "Chocolate    10\n",
       "dtype: int64"
      ]
     },
     "execution_count": 48,
     "metadata": {},
     "output_type": "execute_result"
    }
   ],
   "source": [
    "bog_colors.nlargest(17)"
   ]
  },
  {
   "cell_type": "code",
   "execution_count": 49,
   "id": "3a420d85",
   "metadata": {},
   "outputs": [],
   "source": [
    "import regex as re"
   ]
  },
  {
   "cell_type": "code",
   "execution_count": 50,
   "id": "4772de90",
   "metadata": {},
   "outputs": [],
   "source": [
    "white_patt = re.compile('White|white')\n",
    "black_patt = re.compile('Black|black')\n",
    "brown_patt = re.compile('Brown|brown')\n",
    "blue_patt = re.compile('Blue|blue')\n",
    "tan_patt = re.compile('Tan|tan')\n",
    "tabby_patt = re.compile('Tabby|tabby')\n",
    "red_patt = re.compile('Red|red')\n",
    "cream_patt = re.compile('Cream|cream')\n",
    "brindle_patt = re.compile('Brindle|brindle')\n",
    "point_patt = re.compile('Point|point')\n",
    "merle_patt = re.compile('Merle|merle')\n",
    "gray_patt = re.compile('Gray|gray')\n",
    "tick_patt = re.compile('Tick|tick')\n",
    "orange_patt = re.compile('Orange|orange')\n",
    "tricolor_patt = re.compile('Tricolor|tricolor')\n",
    "buff_patt = re.compile('Buff|buff')\n",
    "chocolate_patt = re.compile('Chocolate|chocolate')\n"
   ]
  },
  {
   "cell_type": "code",
   "execution_count": 51,
   "id": "17a4e838",
   "metadata": {},
   "outputs": [
    {
     "data": {
      "text/plain": [
       "<seaborn.axisgrid.FacetGrid at 0x7f9541bd81f0>"
      ]
     },
     "execution_count": 51,
     "metadata": {},
     "output_type": "execute_result"
    },
    {
     "data": {
      "text/plain": [
       "<Figure size 720x720 with 0 Axes>"
      ]
     },
     "metadata": {},
     "output_type": "display_data"
    },
    {
     "data": {
      "image/png": "[encoded data removed]",
      "text/plain": [
       "<Figure size 420.375x360 with 1 Axes>"
      ]
     },
     "metadata": {},
     "output_type": "display_data"
    }
   ],
   "source": [
    "plt.figure(figsize=(10,10))\n",
    "sns.set_style(\"whitegrid\")\n",
    "_plot = sns.catplot(data=pet_df[pet_df.Color.isin(bog_colors.nlargest(14).index)],x='Color',kind='count',hue='AnimalType')\n",
    "_plot.set_xticklabels( rotation=90, horizontalalignment='right')\n"
   ]
  },
  {
   "cell_type": "markdown",
   "id": "d278994f",
   "metadata": {},
   "source": [
    "### El color presente es el color de animal más presente en perreras.."
   ]
  },
  {
   "cell_type": "markdown",
   "id": "c7b06294",
   "metadata": {},
   "source": [
    "### Es también el menos adoptado?"
   ]
  },
  {
   "cell_type": "code",
   "execution_count": 52,
   "id": "76d854c6",
   "metadata": {},
   "outputs": [],
   "source": [
    "black_colors = [i for i in pet_df.Color.unique() if i.__contains__('Black')]"
   ]
  },
  {
   "cell_type": "code",
   "execution_count": 53,
   "id": "0410b25e",
   "metadata": {},
   "outputs": [
    {
     "data": {
      "text/plain": [
       "<AxesSubplot:xlabel='Color', ylabel='OutcomeType'>"
      ]
     },
     "execution_count": 53,
     "metadata": {},
     "output_type": "execute_result"
    },
    {
     "data": {
      "image/png": "[encoded data removed]",
      "text/plain": [
       "<Figure size 432x288 with 2 Axes>"
      ]
     },
     "metadata": {},
     "output_type": "display_data"
    }
   ],
   "source": [
    "sns.heatmap(pd.crosstab(pet_df.OutcomeType[pet_df.OutcomeType=='Adoption'],pet_df.Color[pet_df.Color.isin(pet_df.Color.value_counts().nlargest(14).index)]),cmap='Blues')\n"
   ]
  },
  {
   "cell_type": "code",
   "execution_count": 54,
   "id": "17e8eb41",
   "metadata": {},
   "outputs": [],
   "source": [
    "## need to standarize values.."
   ]
  },
  {
   "cell_type": "code",
   "execution_count": 55,
   "id": "911fc62f",
   "metadata": {},
   "outputs": [],
   "source": [
    "## 'weight each column'\n",
    "##weight_dict = {}\n",
    "##for i in pd.Series(1 - (pet_df['Color'].value_counts())/len(pet_df)).index:\n",
    "##    weight_dict[i] = pd.Series(1 - (pet_df['Color'].value_counts())/len(pet_df)).loc[i]"
   ]
  },
  {
   "cell_type": "code",
   "execution_count": 56,
   "id": "ac45440b",
   "metadata": {},
   "outputs": [],
   "source": [
    "#weight_dict['Black/White']"
   ]
  },
  {
   "cell_type": "code",
   "execution_count": 57,
   "id": "9308c196",
   "metadata": {},
   "outputs": [],
   "source": [
    "#pet_df['Color_weighted'] = pet_df['Color'].apply(lambda x: weight_dict[x])"
   ]
  },
  {
   "cell_type": "code",
   "execution_count": 58,
   "id": "3fb5f207",
   "metadata": {},
   "outputs": [],
   "source": [
    "#pet_df.head()"
   ]
  },
  {
   "cell_type": "code",
   "execution_count": 59,
   "id": "55977d76",
   "metadata": {},
   "outputs": [],
   "source": [
    "cross_color = pd.crosstab(pet_df.OutcomeType[pet_df.OutcomeType=='Adoption'],pet_df.Color[pet_df.Color.isin(pet_df.Color.value_counts().nlargest(14).index)])\n"
   ]
  },
  {
   "cell_type": "code",
   "execution_count": 60,
   "id": "411a22a2",
   "metadata": {},
   "outputs": [],
   "source": [
    "for i in cross_color.columns:\n",
    "    cross_color[i] = (cross_color[i]/ len(pet_df.Color[pet_df.Color == i]))*100"
   ]
  },
  {
   "cell_type": "code",
   "execution_count": 61,
   "id": "6dc46ea5",
   "metadata": {},
   "outputs": [
    {
     "data": {
      "text/plain": [
       "<AxesSubplot:xlabel='Color', ylabel='OutcomeType'>"
      ]
     },
     "execution_count": 61,
     "metadata": {},
     "output_type": "execute_result"
    },
    {
     "data": {
      "image/png": "[encoded data removed]",
      "text/plain": [
       "<Figure size 576x288 with 2 Axes>"
      ]
     },
     "metadata": {},
     "output_type": "display_data"
    }
   ],
   "source": [
    "plt.figure(figsize=(8,4))\n",
    "sns.heatmap(cross_color,cmap='Blues',annot=True)"
   ]
  },
  {
   "cell_type": "code",
   "execution_count": 62,
   "id": "36cd7e5a",
   "metadata": {},
   "outputs": [],
   "source": [
    "from scipy.stats import chi2_contingency \n",
    "#ColorAdoption = pd.crosstab(pet_df.OutcomeType[pet_df.OutcomeType=='Adoption'],pet_df.Color[pet_df.Color.isin(pet_df.Color.value_counts().nlargest(14).index)],margins=True)\n",
    "value = np.array([cross_color.iloc[0][0:14].values\n",
    "                 ])"
   ]
  },
  {
   "cell_type": "code",
   "execution_count": 63,
   "id": "127b2537",
   "metadata": {},
   "outputs": [
    {
     "name": "stdout",
     "output_type": "stream",
     "text": [
      "z-statistic is 0.0\n",
      "p is 1.0\n",
      "degrees of freedom are 0\n"
     ]
    }
   ],
   "source": [
    "z,p, degrees = chi2_contingency(value)[0:3]\n",
    "print(f'z-statistic is {z}\\np is {p}\\ndegrees of freedom are {degrees}')"
   ]
  },
  {
   "cell_type": "markdown",
   "id": "73402d48",
   "metadata": {},
   "source": []
  },
  {
   "cell_type": "markdown",
   "id": "4d5b13ee",
   "metadata": {},
   "source": [
    "#### según el test de chi cuadrado el color no seria una variable que afectara a la adopción"
   ]
  },
  {
   "cell_type": "code",
   "execution_count": 64,
   "id": "a9761568",
   "metadata": {},
   "outputs": [
    {
     "data": {
      "text/plain": [
       "<AxesSubplot:xlabel='AnimalType', ylabel='count'>"
      ]
     },
     "execution_count": 64,
     "metadata": {},
     "output_type": "execute_result"
    },
    {
     "data": {
      "image/png": "[encoded data removed]",
      "text/plain": [
       "<Figure size 432x288 with 1 Axes>"
      ]
     },
     "metadata": {},
     "output_type": "display_data"
    }
   ],
   "source": [
    "sns.countplot(data=pet_df,x='AnimalType')"
   ]
  },
  {
   "cell_type": "code",
   "execution_count": 65,
   "id": "8440c7bb",
   "metadata": {},
   "outputs": [],
   "source": [
    "### set Animal_ID as index\n",
    "pet_df.set_index('AnimalID',inplace=True)"
   ]
  },
  {
   "cell_type": "code",
   "execution_count": 66,
   "id": "cdbf3505",
   "metadata": {},
   "outputs": [
    {
     "data": {
      "text/plain": [
       "Index(['Name', 'DateTime', 'OutcomeType', 'OutcomeSubtype', 'AnimalType',\n",
       "       'SexuponOutcome', 'AgeuponOutcome', 'Breed', 'Color',\n",
       "       'AgeuponOutcome_Cat'],\n",
       "      dtype='object')"
      ]
     },
     "execution_count": 66,
     "metadata": {},
     "output_type": "execute_result"
    }
   ],
   "source": [
    "pet_df.columns"
   ]
  },
  {
   "cell_type": "markdown",
   "id": "ef54eb9e",
   "metadata": {},
   "source": [
    "#### drop the columns that give no useful information"
   ]
  },
  {
   "cell_type": "code",
   "execution_count": 67,
   "id": "05670d65",
   "metadata": {},
   "outputs": [],
   "source": [
    "pet_df.drop('Name',axis=1,inplace=True)"
   ]
  },
  {
   "cell_type": "code",
   "execution_count": 68,
   "id": "225bb8a1",
   "metadata": {},
   "outputs": [
    {
     "data": {
      "text/plain": [
       "Index(['DateTime', 'OutcomeType', 'OutcomeSubtype', 'AnimalType',\n",
       "       'SexuponOutcome', 'AgeuponOutcome', 'Breed', 'Color',\n",
       "       'AgeuponOutcome_Cat'],\n",
       "      dtype='object')"
      ]
     },
     "execution_count": 68,
     "metadata": {},
     "output_type": "execute_result"
    }
   ],
   "source": [
    "pet_df.columns"
   ]
  },
  {
   "cell_type": "markdown",
   "id": "86ce22f9",
   "metadata": {},
   "source": [
    "#### examine possible correlations within the dataset"
   ]
  },
  {
   "cell_type": "code",
   "execution_count": 69,
   "id": "89282be8",
   "metadata": {},
   "outputs": [
    {
     "data": {
      "text/plain": [
       "<AxesSubplot:xlabel='SexuponOutcome', ylabel='OutcomeType'>"
      ]
     },
     "execution_count": 69,
     "metadata": {},
     "output_type": "execute_result"
    },
    {
     "data": {
      "image/png": "[encoded data removed]",
      "text/plain": [
       "<Figure size 432x288 with 2 Axes>"
      ]
     },
     "metadata": {},
     "output_type": "display_data"
    }
   ],
   "source": [
    "sns.heatmap(pd.crosstab(pet_df.OutcomeType,pet_df.SexuponOutcome),cmap='Blues')"
   ]
  },
  {
   "cell_type": "code",
   "execution_count": 70,
   "id": "44dcaf44",
   "metadata": {},
   "outputs": [],
   "source": [
    "from scipy.stats import chi2_contingency \n",
    "OutcomeSex = pd.crosstab(pet_df.OutcomeType,pet_df.SexuponOutcome,margins=True)\n",
    "value = np.array([OutcomeSex.iloc[0][0:6].values,\n",
    "                  OutcomeSex.iloc[1][0:6].values,\n",
    "                  OutcomeSex.iloc[2][0:6].values,\n",
    "                  OutcomeSex.iloc[3][0:6].values,\n",
    "                  OutcomeSex.iloc[4][0:6].values\n",
    "                 ])"
   ]
  },
  {
   "cell_type": "code",
   "execution_count": 71,
   "id": "91469475",
   "metadata": {},
   "outputs": [
    {
     "name": "stdout",
     "output_type": "stream",
     "text": [
      "z-statistic is 867.3337761685555\n",
      "p is 6.991866935709936e-171\n",
      "degrees of freedom are 20\n"
     ]
    }
   ],
   "source": [
    "z,p, degrees = chi2_contingency(value)[0:3]\n",
    "print(f'z-statistic is {z}\\np is {p}\\ndegrees of freedom are {degrees}')"
   ]
  },
  {
   "cell_type": "code",
   "execution_count": 72,
   "id": "4f1c9b7b",
   "metadata": {},
   "outputs": [
    {
     "name": "stdout",
     "output_type": "stream",
     "text": [
      "since 6.991866935709936e-171 < 0.05 we reject the null hypothesis that the variables are independent from each other\n"
     ]
    }
   ],
   "source": [
    "print(f'since {p} < 0.05 we reject the null hypothesis that the variables are independent from each other')"
   ]
  },
  {
   "cell_type": "code",
   "execution_count": null,
   "id": "8fc63f4a",
   "metadata": {},
   "outputs": [],
   "source": []
  }
 ],
 "metadata": {
  "kernelspec": {
   "display_name": "Python 3 (ipykernel)",
   "language": "python",
   "name": "python3"
  },
  "language_info": {
   "codemirror_mode": {
    "name": "ipython",
    "version": 3
   },
   "file_extension": ".py",
   "mimetype": "text/x-python",
   "name": "python",
   "nbconvert_exporter": "python",
   "pygments_lexer": "ipython3",
   "version": "3.9.7"
  }
 },
 "nbformat": 4,
 "nbformat_minor": 5
}
