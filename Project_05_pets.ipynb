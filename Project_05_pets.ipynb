{
 "cells": [
  {
   "cell_type": "code",
   "execution_count": 1,
   "id": "d8531494",
   "metadata": {},
   "outputs": [],
   "source": [
    "# importing personal library\n",
    "import my_functions as mfu"
   ]
  },
  {
   "cell_type": "code",
   "execution_count": 2,
   "id": "38dc5fbf",
   "metadata": {},
   "outputs": [],
   "source": [
    "# importing basic libraries\n",
    "import pandas as pd\n",
    "import numpy as np\n",
    "import matplotlib.pyplot as plt\n",
    "import seaborn as sns"
   ]
  },
  {
   "cell_type": "code",
   "execution_count": 3,
   "id": "d7122a60",
   "metadata": {},
   "outputs": [],
   "source": [
    "train_df = pd.read_csv('train.csv')\n",
    "test_df = pd.read_csv('test.csv')\n",
    "sample_df = pd.read_csv('sample_submission.csv')"
   ]
  },
  {
   "cell_type": "code",
   "execution_count": 4,
   "id": "125e8b7e",
   "metadata": {},
   "outputs": [
    {
     "data": {
      "text/plain": [
       "Index(['AnimalID', 'Name', 'DateTime', 'OutcomeType', 'OutcomeSubtype',\n",
       "       'AnimalType', 'SexuponOutcome', 'AgeuponOutcome', 'Breed', 'Color'],\n",
       "      dtype='object')"
      ]
     },
     "execution_count": 4,
     "metadata": {},
     "output_type": "execute_result"
    }
   ],
   "source": [
    "train_df.columns"
   ]
  },
  {
   "cell_type": "code",
   "execution_count": 5,
   "id": "255f4b0f",
   "metadata": {},
   "outputs": [
    {
     "data": {
      "text/plain": [
       "Index(['ID', 'Name', 'DateTime', 'AnimalType', 'SexuponOutcome',\n",
       "       'AgeuponOutcome', 'Breed', 'Color'],\n",
       "      dtype='object')"
      ]
     },
     "execution_count": 5,
     "metadata": {},
     "output_type": "execute_result"
    }
   ],
   "source": [
    "test_df.columns"
   ]
  },
  {
   "cell_type": "code",
   "execution_count": 6,
   "id": "ef1f4873",
   "metadata": {},
   "outputs": [],
   "source": [
    "# we join the two dfs to recover the original?\n",
    "pet_df = pd.concat([train_df,test_df])"
   ]
  },
  {
   "cell_type": "code",
   "execution_count": 7,
   "id": "7c13e963",
   "metadata": {},
   "outputs": [
    {
     "data": {
      "text/html": [
       "<div>\n",
       "<style scoped>\n",
       "    .dataframe tbody tr th:only-of-type {\n",
       "        vertical-align: middle;\n",
       "    }\n",
       "\n",
       "    .dataframe tbody tr th {\n",
       "        vertical-align: top;\n",
       "    }\n",
       "\n",
       "    .dataframe thead th {\n",
       "        text-align: right;\n",
       "    }\n",
       "</style>\n",
       "<table border=\"1\" class=\"dataframe\">\n",
       "  <thead>\n",
       "    <tr style=\"text-align: right;\">\n",
       "      <th></th>\n",
       "      <th>AnimalID</th>\n",
       "      <th>Name</th>\n",
       "      <th>DateTime</th>\n",
       "      <th>OutcomeType</th>\n",
       "      <th>OutcomeSubtype</th>\n",
       "      <th>AnimalType</th>\n",
       "      <th>SexuponOutcome</th>\n",
       "      <th>AgeuponOutcome</th>\n",
       "      <th>Breed</th>\n",
       "      <th>Color</th>\n",
       "      <th>ID</th>\n",
       "    </tr>\n",
       "  </thead>\n",
       "  <tbody>\n",
       "    <tr>\n",
       "      <th>0</th>\n",
       "      <td>A671945</td>\n",
       "      <td>Hambone</td>\n",
       "      <td>2014-02-12 18:22:00</td>\n",
       "      <td>Return_to_owner</td>\n",
       "      <td>NaN</td>\n",
       "      <td>Dog</td>\n",
       "      <td>Neutered Male</td>\n",
       "      <td>1 year</td>\n",
       "      <td>Shetland Sheepdog Mix</td>\n",
       "      <td>Brown/White</td>\n",
       "      <td>NaN</td>\n",
       "    </tr>\n",
       "    <tr>\n",
       "      <th>1</th>\n",
       "      <td>A656520</td>\n",
       "      <td>Emily</td>\n",
       "      <td>2013-10-13 12:44:00</td>\n",
       "      <td>Euthanasia</td>\n",
       "      <td>Suffering</td>\n",
       "      <td>Cat</td>\n",
       "      <td>Spayed Female</td>\n",
       "      <td>1 year</td>\n",
       "      <td>Domestic Shorthair Mix</td>\n",
       "      <td>Cream Tabby</td>\n",
       "      <td>NaN</td>\n",
       "    </tr>\n",
       "    <tr>\n",
       "      <th>2</th>\n",
       "      <td>A686464</td>\n",
       "      <td>Pearce</td>\n",
       "      <td>2015-01-31 12:28:00</td>\n",
       "      <td>Adoption</td>\n",
       "      <td>Foster</td>\n",
       "      <td>Dog</td>\n",
       "      <td>Neutered Male</td>\n",
       "      <td>2 years</td>\n",
       "      <td>Pit Bull Mix</td>\n",
       "      <td>Blue/White</td>\n",
       "      <td>NaN</td>\n",
       "    </tr>\n",
       "    <tr>\n",
       "      <th>3</th>\n",
       "      <td>A683430</td>\n",
       "      <td>NaN</td>\n",
       "      <td>2014-07-11 19:09:00</td>\n",
       "      <td>Transfer</td>\n",
       "      <td>Partner</td>\n",
       "      <td>Cat</td>\n",
       "      <td>Intact Male</td>\n",
       "      <td>3 weeks</td>\n",
       "      <td>Domestic Shorthair Mix</td>\n",
       "      <td>Blue Cream</td>\n",
       "      <td>NaN</td>\n",
       "    </tr>\n",
       "    <tr>\n",
       "      <th>4</th>\n",
       "      <td>A667013</td>\n",
       "      <td>NaN</td>\n",
       "      <td>2013-11-15 12:52:00</td>\n",
       "      <td>Transfer</td>\n",
       "      <td>Partner</td>\n",
       "      <td>Dog</td>\n",
       "      <td>Neutered Male</td>\n",
       "      <td>2 years</td>\n",
       "      <td>Lhasa Apso/Miniature Poodle</td>\n",
       "      <td>Tan</td>\n",
       "      <td>NaN</td>\n",
       "    </tr>\n",
       "    <tr>\n",
       "      <th>...</th>\n",
       "      <td>...</td>\n",
       "      <td>...</td>\n",
       "      <td>...</td>\n",
       "      <td>...</td>\n",
       "      <td>...</td>\n",
       "      <td>...</td>\n",
       "      <td>...</td>\n",
       "      <td>...</td>\n",
       "      <td>...</td>\n",
       "      <td>...</td>\n",
       "      <td>...</td>\n",
       "    </tr>\n",
       "    <tr>\n",
       "      <th>11451</th>\n",
       "      <td>NaN</td>\n",
       "      <td>NaN</td>\n",
       "      <td>2014-07-08 14:50:00</td>\n",
       "      <td>NaN</td>\n",
       "      <td>NaN</td>\n",
       "      <td>Cat</td>\n",
       "      <td>Neutered Male</td>\n",
       "      <td>2 months</td>\n",
       "      <td>Domestic Shorthair Mix</td>\n",
       "      <td>Black</td>\n",
       "      <td>11452.0</td>\n",
       "    </tr>\n",
       "    <tr>\n",
       "      <th>11452</th>\n",
       "      <td>NaN</td>\n",
       "      <td>NaN</td>\n",
       "      <td>2014-10-21 12:57:00</td>\n",
       "      <td>NaN</td>\n",
       "      <td>NaN</td>\n",
       "      <td>Cat</td>\n",
       "      <td>Intact Female</td>\n",
       "      <td>2 weeks</td>\n",
       "      <td>Domestic Shorthair Mix</td>\n",
       "      <td>Blue</td>\n",
       "      <td>11453.0</td>\n",
       "    </tr>\n",
       "    <tr>\n",
       "      <th>11453</th>\n",
       "      <td>NaN</td>\n",
       "      <td>NaN</td>\n",
       "      <td>2014-09-29 09:00:00</td>\n",
       "      <td>NaN</td>\n",
       "      <td>NaN</td>\n",
       "      <td>Cat</td>\n",
       "      <td>Intact Female</td>\n",
       "      <td>1 year</td>\n",
       "      <td>Domestic Shorthair Mix</td>\n",
       "      <td>Calico</td>\n",
       "      <td>11454.0</td>\n",
       "    </tr>\n",
       "    <tr>\n",
       "      <th>11454</th>\n",
       "      <td>NaN</td>\n",
       "      <td>Rambo</td>\n",
       "      <td>2015-09-05 17:16:00</td>\n",
       "      <td>NaN</td>\n",
       "      <td>NaN</td>\n",
       "      <td>Dog</td>\n",
       "      <td>Neutered Male</td>\n",
       "      <td>6 years</td>\n",
       "      <td>German Shepherd Mix</td>\n",
       "      <td>Black/Tan</td>\n",
       "      <td>11455.0</td>\n",
       "    </tr>\n",
       "    <tr>\n",
       "      <th>11455</th>\n",
       "      <td>NaN</td>\n",
       "      <td>Gusto</td>\n",
       "      <td>2014-07-12 18:40:00</td>\n",
       "      <td>NaN</td>\n",
       "      <td>NaN</td>\n",
       "      <td>Dog</td>\n",
       "      <td>Intact Male</td>\n",
       "      <td>4 years</td>\n",
       "      <td>Labrador Retriever</td>\n",
       "      <td>Cream</td>\n",
       "      <td>11456.0</td>\n",
       "    </tr>\n",
       "  </tbody>\n",
       "</table>\n",
       "<p>38185 rows × 11 columns</p>\n",
       "</div>"
      ],
      "text/plain": [
       "      AnimalID     Name             DateTime      OutcomeType OutcomeSubtype  \\\n",
       "0      A671945  Hambone  2014-02-12 18:22:00  Return_to_owner            NaN   \n",
       "1      A656520    Emily  2013-10-13 12:44:00       Euthanasia      Suffering   \n",
       "2      A686464   Pearce  2015-01-31 12:28:00         Adoption         Foster   \n",
       "3      A683430      NaN  2014-07-11 19:09:00         Transfer        Partner   \n",
       "4      A667013      NaN  2013-11-15 12:52:00         Transfer        Partner   \n",
       "...        ...      ...                  ...              ...            ...   \n",
       "11451      NaN      NaN  2014-07-08 14:50:00              NaN            NaN   \n",
       "11452      NaN      NaN  2014-10-21 12:57:00              NaN            NaN   \n",
       "11453      NaN      NaN  2014-09-29 09:00:00              NaN            NaN   \n",
       "11454      NaN    Rambo  2015-09-05 17:16:00              NaN            NaN   \n",
       "11455      NaN    Gusto  2014-07-12 18:40:00              NaN            NaN   \n",
       "\n",
       "      AnimalType SexuponOutcome AgeuponOutcome                        Breed  \\\n",
       "0            Dog  Neutered Male         1 year        Shetland Sheepdog Mix   \n",
       "1            Cat  Spayed Female         1 year       Domestic Shorthair Mix   \n",
       "2            Dog  Neutered Male        2 years                 Pit Bull Mix   \n",
       "3            Cat    Intact Male        3 weeks       Domestic Shorthair Mix   \n",
       "4            Dog  Neutered Male        2 years  Lhasa Apso/Miniature Poodle   \n",
       "...          ...            ...            ...                          ...   \n",
       "11451        Cat  Neutered Male       2 months       Domestic Shorthair Mix   \n",
       "11452        Cat  Intact Female        2 weeks       Domestic Shorthair Mix   \n",
       "11453        Cat  Intact Female         1 year       Domestic Shorthair Mix   \n",
       "11454        Dog  Neutered Male        6 years          German Shepherd Mix   \n",
       "11455        Dog    Intact Male        4 years           Labrador Retriever   \n",
       "\n",
       "             Color       ID  \n",
       "0      Brown/White      NaN  \n",
       "1      Cream Tabby      NaN  \n",
       "2       Blue/White      NaN  \n",
       "3       Blue Cream      NaN  \n",
       "4              Tan      NaN  \n",
       "...            ...      ...  \n",
       "11451        Black  11452.0  \n",
       "11452         Blue  11453.0  \n",
       "11453       Calico  11454.0  \n",
       "11454    Black/Tan  11455.0  \n",
       "11455        Cream  11456.0  \n",
       "\n",
       "[38185 rows x 11 columns]"
      ]
     },
     "execution_count": 7,
     "metadata": {},
     "output_type": "execute_result"
    }
   ],
   "source": [
    "# train and test have different columns... \n",
    "pet_df"
   ]
  },
  {
   "cell_type": "code",
   "execution_count": 8,
   "id": "e2729bf7",
   "metadata": {},
   "outputs": [],
   "source": [
    "# we will use train as our main df\n",
    "pet_df = train_df.copy()"
   ]
  },
  {
   "cell_type": "code",
   "execution_count": 9,
   "id": "ac8d9b92",
   "metadata": {},
   "outputs": [
    {
     "data": {
      "text/html": [
       "<div>\n",
       "<style scoped>\n",
       "    .dataframe tbody tr th:only-of-type {\n",
       "        vertical-align: middle;\n",
       "    }\n",
       "\n",
       "    .dataframe tbody tr th {\n",
       "        vertical-align: top;\n",
       "    }\n",
       "\n",
       "    .dataframe thead th {\n",
       "        text-align: right;\n",
       "    }\n",
       "</style>\n",
       "<table border=\"1\" class=\"dataframe\">\n",
       "  <thead>\n",
       "    <tr style=\"text-align: right;\">\n",
       "      <th></th>\n",
       "      <th>AnimalID</th>\n",
       "      <th>Name</th>\n",
       "      <th>DateTime</th>\n",
       "      <th>OutcomeType</th>\n",
       "      <th>OutcomeSubtype</th>\n",
       "      <th>AnimalType</th>\n",
       "      <th>SexuponOutcome</th>\n",
       "      <th>AgeuponOutcome</th>\n",
       "      <th>Breed</th>\n",
       "      <th>Color</th>\n",
       "    </tr>\n",
       "  </thead>\n",
       "  <tbody>\n",
       "    <tr>\n",
       "      <th>0</th>\n",
       "      <td>A671945</td>\n",
       "      <td>Hambone</td>\n",
       "      <td>2014-02-12 18:22:00</td>\n",
       "      <td>Return_to_owner</td>\n",
       "      <td>NaN</td>\n",
       "      <td>Dog</td>\n",
       "      <td>Neutered Male</td>\n",
       "      <td>1 year</td>\n",
       "      <td>Shetland Sheepdog Mix</td>\n",
       "      <td>Brown/White</td>\n",
       "    </tr>\n",
       "    <tr>\n",
       "      <th>1</th>\n",
       "      <td>A656520</td>\n",
       "      <td>Emily</td>\n",
       "      <td>2013-10-13 12:44:00</td>\n",
       "      <td>Euthanasia</td>\n",
       "      <td>Suffering</td>\n",
       "      <td>Cat</td>\n",
       "      <td>Spayed Female</td>\n",
       "      <td>1 year</td>\n",
       "      <td>Domestic Shorthair Mix</td>\n",
       "      <td>Cream Tabby</td>\n",
       "    </tr>\n",
       "    <tr>\n",
       "      <th>2</th>\n",
       "      <td>A686464</td>\n",
       "      <td>Pearce</td>\n",
       "      <td>2015-01-31 12:28:00</td>\n",
       "      <td>Adoption</td>\n",
       "      <td>Foster</td>\n",
       "      <td>Dog</td>\n",
       "      <td>Neutered Male</td>\n",
       "      <td>2 years</td>\n",
       "      <td>Pit Bull Mix</td>\n",
       "      <td>Blue/White</td>\n",
       "    </tr>\n",
       "    <tr>\n",
       "      <th>3</th>\n",
       "      <td>A683430</td>\n",
       "      <td>NaN</td>\n",
       "      <td>2014-07-11 19:09:00</td>\n",
       "      <td>Transfer</td>\n",
       "      <td>Partner</td>\n",
       "      <td>Cat</td>\n",
       "      <td>Intact Male</td>\n",
       "      <td>3 weeks</td>\n",
       "      <td>Domestic Shorthair Mix</td>\n",
       "      <td>Blue Cream</td>\n",
       "    </tr>\n",
       "    <tr>\n",
       "      <th>4</th>\n",
       "      <td>A667013</td>\n",
       "      <td>NaN</td>\n",
       "      <td>2013-11-15 12:52:00</td>\n",
       "      <td>Transfer</td>\n",
       "      <td>Partner</td>\n",
       "      <td>Dog</td>\n",
       "      <td>Neutered Male</td>\n",
       "      <td>2 years</td>\n",
       "      <td>Lhasa Apso/Miniature Poodle</td>\n",
       "      <td>Tan</td>\n",
       "    </tr>\n",
       "    <tr>\n",
       "      <th>...</th>\n",
       "      <td>...</td>\n",
       "      <td>...</td>\n",
       "      <td>...</td>\n",
       "      <td>...</td>\n",
       "      <td>...</td>\n",
       "      <td>...</td>\n",
       "      <td>...</td>\n",
       "      <td>...</td>\n",
       "      <td>...</td>\n",
       "      <td>...</td>\n",
       "    </tr>\n",
       "    <tr>\n",
       "      <th>26724</th>\n",
       "      <td>A702446</td>\n",
       "      <td>NaN</td>\n",
       "      <td>2015-05-14 11:56:00</td>\n",
       "      <td>Transfer</td>\n",
       "      <td>Partner</td>\n",
       "      <td>Cat</td>\n",
       "      <td>Intact Male</td>\n",
       "      <td>1 month</td>\n",
       "      <td>Domestic Shorthair Mix</td>\n",
       "      <td>Brown Tabby/White</td>\n",
       "    </tr>\n",
       "    <tr>\n",
       "      <th>26725</th>\n",
       "      <td>A718934</td>\n",
       "      <td>NaN</td>\n",
       "      <td>2016-01-20 18:59:00</td>\n",
       "      <td>Transfer</td>\n",
       "      <td>SCRP</td>\n",
       "      <td>Cat</td>\n",
       "      <td>Spayed Female</td>\n",
       "      <td>3 months</td>\n",
       "      <td>Domestic Shorthair Mix</td>\n",
       "      <td>Brown Tabby</td>\n",
       "    </tr>\n",
       "    <tr>\n",
       "      <th>26726</th>\n",
       "      <td>A698128</td>\n",
       "      <td>Zeus</td>\n",
       "      <td>2015-03-09 13:33:00</td>\n",
       "      <td>Adoption</td>\n",
       "      <td>NaN</td>\n",
       "      <td>Dog</td>\n",
       "      <td>Neutered Male</td>\n",
       "      <td>4 years</td>\n",
       "      <td>Old English Bulldog Mix</td>\n",
       "      <td>White/Tan</td>\n",
       "    </tr>\n",
       "    <tr>\n",
       "      <th>26727</th>\n",
       "      <td>A677478</td>\n",
       "      <td>NaN</td>\n",
       "      <td>2014-04-27 12:22:00</td>\n",
       "      <td>Transfer</td>\n",
       "      <td>Partner</td>\n",
       "      <td>Cat</td>\n",
       "      <td>Intact Male</td>\n",
       "      <td>4 weeks</td>\n",
       "      <td>Domestic Shorthair Mix</td>\n",
       "      <td>Black</td>\n",
       "    </tr>\n",
       "    <tr>\n",
       "      <th>26728</th>\n",
       "      <td>A706629</td>\n",
       "      <td>NaN</td>\n",
       "      <td>2015-07-02 09:00:00</td>\n",
       "      <td>Transfer</td>\n",
       "      <td>SCRP</td>\n",
       "      <td>Cat</td>\n",
       "      <td>Intact Male</td>\n",
       "      <td>1 year</td>\n",
       "      <td>Domestic Shorthair Mix</td>\n",
       "      <td>Brown Tabby/White</td>\n",
       "    </tr>\n",
       "  </tbody>\n",
       "</table>\n",
       "<p>26729 rows × 10 columns</p>\n",
       "</div>"
      ],
      "text/plain": [
       "      AnimalID     Name             DateTime      OutcomeType OutcomeSubtype  \\\n",
       "0      A671945  Hambone  2014-02-12 18:22:00  Return_to_owner            NaN   \n",
       "1      A656520    Emily  2013-10-13 12:44:00       Euthanasia      Suffering   \n",
       "2      A686464   Pearce  2015-01-31 12:28:00         Adoption         Foster   \n",
       "3      A683430      NaN  2014-07-11 19:09:00         Transfer        Partner   \n",
       "4      A667013      NaN  2013-11-15 12:52:00         Transfer        Partner   \n",
       "...        ...      ...                  ...              ...            ...   \n",
       "26724  A702446      NaN  2015-05-14 11:56:00         Transfer        Partner   \n",
       "26725  A718934      NaN  2016-01-20 18:59:00         Transfer           SCRP   \n",
       "26726  A698128     Zeus  2015-03-09 13:33:00         Adoption            NaN   \n",
       "26727  A677478      NaN  2014-04-27 12:22:00         Transfer        Partner   \n",
       "26728  A706629      NaN  2015-07-02 09:00:00         Transfer           SCRP   \n",
       "\n",
       "      AnimalType SexuponOutcome AgeuponOutcome                        Breed  \\\n",
       "0            Dog  Neutered Male         1 year        Shetland Sheepdog Mix   \n",
       "1            Cat  Spayed Female         1 year       Domestic Shorthair Mix   \n",
       "2            Dog  Neutered Male        2 years                 Pit Bull Mix   \n",
       "3            Cat    Intact Male        3 weeks       Domestic Shorthair Mix   \n",
       "4            Dog  Neutered Male        2 years  Lhasa Apso/Miniature Poodle   \n",
       "...          ...            ...            ...                          ...   \n",
       "26724        Cat    Intact Male        1 month       Domestic Shorthair Mix   \n",
       "26725        Cat  Spayed Female       3 months       Domestic Shorthair Mix   \n",
       "26726        Dog  Neutered Male        4 years      Old English Bulldog Mix   \n",
       "26727        Cat    Intact Male        4 weeks       Domestic Shorthair Mix   \n",
       "26728        Cat    Intact Male         1 year       Domestic Shorthair Mix   \n",
       "\n",
       "                   Color  \n",
       "0            Brown/White  \n",
       "1            Cream Tabby  \n",
       "2             Blue/White  \n",
       "3             Blue Cream  \n",
       "4                    Tan  \n",
       "...                  ...  \n",
       "26724  Brown Tabby/White  \n",
       "26725        Brown Tabby  \n",
       "26726          White/Tan  \n",
       "26727              Black  \n",
       "26728  Brown Tabby/White  \n",
       "\n",
       "[26729 rows x 10 columns]"
      ]
     },
     "execution_count": 9,
     "metadata": {},
     "output_type": "execute_result"
    }
   ],
   "source": [
    "pet_df"
   ]
  },
  {
   "cell_type": "markdown",
   "id": "68111eb4",
   "metadata": {},
   "source": [
    "### Clean the df"
   ]
  },
  {
   "cell_type": "code",
   "execution_count": 10,
   "id": "5a04de4b",
   "metadata": {},
   "outputs": [],
   "source": [
    "## if possible convert columns to numeric"
   ]
  },
  {
   "cell_type": "code",
   "execution_count": 11,
   "id": "92b7f2fa",
   "metadata": {},
   "outputs": [
    {
     "name": "stdout",
     "output_type": "stream",
     "text": [
      "AnimalID not numeric\n",
      "Name not numeric\n",
      "DateTime not numeric\n",
      "OutcomeType not numeric\n",
      "OutcomeSubtype not numeric\n",
      "AnimalType not numeric\n",
      "SexuponOutcome not numeric\n",
      "AgeuponOutcome not numeric\n",
      "Breed not numeric\n",
      "Color not numeric\n"
     ]
    }
   ],
   "source": [
    "mfu.to_num(pet_df)"
   ]
  },
  {
   "cell_type": "code",
   "execution_count": 12,
   "id": "ac8c0756",
   "metadata": {},
   "outputs": [],
   "source": [
    "# trim white spaces from columns names"
   ]
  },
  {
   "cell_type": "code",
   "execution_count": 13,
   "id": "8130f5d0",
   "metadata": {},
   "outputs": [
    {
     "data": {
      "text/plain": [
       "Index(['AnimalID', 'Name', 'DateTime', 'OutcomeType', 'OutcomeSubtype',\n",
       "       'AnimalType', 'SexuponOutcome', 'AgeuponOutcome', 'Breed', 'Color'],\n",
       "      dtype='object')"
      ]
     },
     "execution_count": 13,
     "metadata": {},
     "output_type": "execute_result"
    }
   ],
   "source": [
    "pet_df.columns"
   ]
  },
  {
   "cell_type": "code",
   "execution_count": 14,
   "id": "f3938d70",
   "metadata": {},
   "outputs": [],
   "source": [
    "mfu.strip_col(pet_df)"
   ]
  },
  {
   "cell_type": "code",
   "execution_count": 15,
   "id": "6f2e1376",
   "metadata": {},
   "outputs": [
    {
     "data": {
      "text/plain": [
       "Index(['AnimalID', 'Name', 'DateTime', 'OutcomeType', 'OutcomeSubtype',\n",
       "       'AnimalType', 'SexuponOutcome', 'AgeuponOutcome', 'Breed', 'Color'],\n",
       "      dtype='object')"
      ]
     },
     "execution_count": 15,
     "metadata": {},
     "output_type": "execute_result"
    }
   ],
   "source": [
    "pet_df.columns"
   ]
  },
  {
   "cell_type": "code",
   "execution_count": 16,
   "id": "612ee6e0",
   "metadata": {},
   "outputs": [],
   "source": [
    "# drop rows with null/empty values"
   ]
  },
  {
   "cell_type": "code",
   "execution_count": 17,
   "id": "37eaa563",
   "metadata": {},
   "outputs": [
    {
     "name": "stdout",
     "output_type": "stream",
     "text": [
      "<class 'pandas.core.frame.DataFrame'>\n",
      "RangeIndex: 26729 entries, 0 to 26728\n",
      "Data columns (total 10 columns):\n",
      " #   Column          Non-Null Count  Dtype \n",
      "---  ------          --------------  ----- \n",
      " 0   AnimalID        26729 non-null  object\n",
      " 1   Name            19038 non-null  object\n",
      " 2   DateTime        26729 non-null  object\n",
      " 3   OutcomeType     26729 non-null  object\n",
      " 4   OutcomeSubtype  13117 non-null  object\n",
      " 5   AnimalType      26729 non-null  object\n",
      " 6   SexuponOutcome  26728 non-null  object\n",
      " 7   AgeuponOutcome  26711 non-null  object\n",
      " 8   Breed           26729 non-null  object\n",
      " 9   Color           26729 non-null  object\n",
      "dtypes: object(10)\n",
      "memory usage: 2.0+ MB\n"
     ]
    }
   ],
   "source": [
    "pet_df.info()"
   ]
  },
  {
   "cell_type": "code",
   "execution_count": 18,
   "id": "38c676bf",
   "metadata": {},
   "outputs": [],
   "source": [
    "mfu.dropna_row(pet_df,pet_df.columns)"
   ]
  },
  {
   "cell_type": "code",
   "execution_count": 19,
   "id": "2b357eee",
   "metadata": {},
   "outputs": [
    {
     "name": "stdout",
     "output_type": "stream",
     "text": [
      "<class 'pandas.core.frame.DataFrame'>\n",
      "Int64Index: 6979 entries, 1 to 26721\n",
      "Data columns (total 10 columns):\n",
      " #   Column          Non-Null Count  Dtype \n",
      "---  ------          --------------  ----- \n",
      " 0   AnimalID        6979 non-null   object\n",
      " 1   Name            6979 non-null   object\n",
      " 2   DateTime        6979 non-null   object\n",
      " 3   OutcomeType     6979 non-null   object\n",
      " 4   OutcomeSubtype  6979 non-null   object\n",
      " 5   AnimalType      6979 non-null   object\n",
      " 6   SexuponOutcome  6979 non-null   object\n",
      " 7   AgeuponOutcome  6979 non-null   object\n",
      " 8   Breed           6979 non-null   object\n",
      " 9   Color           6979 non-null   object\n",
      "dtypes: object(10)\n",
      "memory usage: 599.8+ KB\n"
     ]
    }
   ],
   "source": [
    "pet_df.info()"
   ]
  },
  {
   "cell_type": "code",
   "execution_count": 20,
   "id": "8ab6fd4e",
   "metadata": {},
   "outputs": [],
   "source": [
    "# check unique values from intersting columns"
   ]
  },
  {
   "cell_type": "code",
   "execution_count": 21,
   "id": "61abbe70",
   "metadata": {},
   "outputs": [
    {
     "data": {
      "text/plain": [
       "array(['Euthanasia', 'Adoption', 'Transfer', 'Died'], dtype=object)"
      ]
     },
     "execution_count": 21,
     "metadata": {},
     "output_type": "execute_result"
    }
   ],
   "source": [
    "pet_df.OutcomeType.unique()"
   ]
  },
  {
   "cell_type": "code",
   "execution_count": 22,
   "id": "2a9e459b",
   "metadata": {},
   "outputs": [
    {
     "data": {
      "text/plain": [
       "array(['Suffering', 'Foster', 'Partner', 'Aggressive', 'Rabies Risk',\n",
       "       'In Kennel', 'Medical', 'Offsite', 'Behavior', 'Barn', 'SCRP',\n",
       "       'In Foster', 'Court/Investigation', 'Enroute', 'At Vet',\n",
       "       'In Surgery'], dtype=object)"
      ]
     },
     "execution_count": 22,
     "metadata": {},
     "output_type": "execute_result"
    }
   ],
   "source": [
    "pet_df.OutcomeSubtype.unique()"
   ]
  },
  {
   "cell_type": "code",
   "execution_count": 23,
   "id": "0f1bd4bc",
   "metadata": {},
   "outputs": [
    {
     "data": {
      "text/plain": [
       "array(['Spayed Female', 'Neutered Male', 'Intact Female', 'Intact Male',\n",
       "       'Unknown'], dtype=object)"
      ]
     },
     "execution_count": 23,
     "metadata": {},
     "output_type": "execute_result"
    }
   ],
   "source": [
    "pet_df.SexuponOutcome.unique()"
   ]
  },
  {
   "cell_type": "code",
   "execution_count": 24,
   "id": "54488e90",
   "metadata": {},
   "outputs": [
    {
     "data": {
      "text/plain": [
       "array(['1 year', '2 years', '1 month', '3 weeks', '4 years', '3 months',\n",
       "       '2 months', '4 months', '3 years', '11 years', '6 months',\n",
       "       '4 weeks', '12 years', '7 years', '7 months', '5 years',\n",
       "       '5 months', '6 years', '15 years', '9 years', '10 years',\n",
       "       '11 months', '8 months', '10 months', '8 years', '9 months',\n",
       "       '6 days', '13 years', '5 weeks', '14 years', '16 years', '3 days',\n",
       "       '1 week', '2 weeks', '17 years', '1 weeks', '18 years', '4 days',\n",
       "       '19 years', '20 years'], dtype=object)"
      ]
     },
     "execution_count": 24,
     "metadata": {},
     "output_type": "execute_result"
    }
   ],
   "source": [
    "pet_df.AgeuponOutcome.unique()"
   ]
  },
  {
   "cell_type": "code",
   "execution_count": 25,
   "id": "900872d3",
   "metadata": {},
   "outputs": [],
   "source": [
    "# we will try to reduce number of age parameters"
   ]
  },
  {
   "cell_type": "code",
   "execution_count": 30,
   "id": "68cfb185",
   "metadata": {},
   "outputs": [],
   "source": [
    "ind_age = pet_df[pet_df.AgeuponOutcome.isin(['10 years','11 years','12 years','13 years','14 years', '15 years', '16 years','17 years','18 years','19 years','20 years'])].index"
   ]
  },
  {
   "cell_type": "code",
   "execution_count": 39,
   "id": "4d8deea6",
   "metadata": {},
   "outputs": [],
   "source": [
    "for i in ind_age:\n",
    "    pet_df.loc[i,'AgeuponOutcome'] = '10 years or more'\n"
   ]
  },
  {
   "cell_type": "code",
   "execution_count": 41,
   "id": "e08c7192",
   "metadata": {},
   "outputs": [
    {
     "data": {
      "text/plain": [
       "array(['1 year', '2 years', '1 month', '3 weeks', '4 years', '3 months',\n",
       "       '2 months', '4 months', '3 years', '10 years or more', '6 months',\n",
       "       '4 weeks', '7 years', '7 months', '5 years', '5 months', '6 years',\n",
       "       '9 years', '11 months', '8 months', '10 months', '8 years',\n",
       "       '9 months', '6 days', '5 weeks', '3 days', '1 week', '2 weeks',\n",
       "       '1 weeks', '4 days'], dtype=object)"
      ]
     },
     "execution_count": 41,
     "metadata": {},
     "output_type": "execute_result"
    }
   ],
   "source": [
    "pet_df.AgeuponOutcome.unique()"
   ]
  },
  {
   "cell_type": "code",
   "execution_count": 50,
   "id": "48cdc3fb",
   "metadata": {},
   "outputs": [],
   "source": [
    "ind_age = pet_df[pet_df.AgeuponOutcome.isin(['1 month','4 weeks', '6 days','3 weeks', '3 days','1 week', '2 weeks','1 weeks','4 days'])].index\n"
   ]
  },
  {
   "cell_type": "code",
   "execution_count": 51,
   "id": "1698f44b",
   "metadata": {},
   "outputs": [],
   "source": [
    "for i in ind_age:\n",
    "    pet_df.loc[i,'AgeuponOutcome'] = '1 month or less'"
   ]
  },
  {
   "cell_type": "code",
   "execution_count": 52,
   "id": "5711fde5",
   "metadata": {},
   "outputs": [
    {
     "data": {
      "text/plain": [
       "array(['> 1 month and < 1 year', '2 years', '1 month or less', '4 years',\n",
       "       '3 years', '10 years or more', '7 years', '5 years', '5 months',\n",
       "       '6 years', '9 years', '8 years'], dtype=object)"
      ]
     },
     "execution_count": 52,
     "metadata": {},
     "output_type": "execute_result"
    }
   ],
   "source": [
    "pet_df.AgeuponOutcome.unique()"
   ]
  },
  {
   "cell_type": "code",
   "execution_count": 54,
   "id": "42f9977a",
   "metadata": {},
   "outputs": [],
   "source": [
    "ind_age = pet_df[pet_df.AgeuponOutcome.isin(['1 year','3 months','5 months','2 months','4 months','6 months','7 months',' 5 months','11 months', '8 months','10 months','9 months','5 weeks' ])].index"
   ]
  },
  {
   "cell_type": "code",
   "execution_count": 55,
   "id": "ce7d43df",
   "metadata": {},
   "outputs": [],
   "source": [
    "for i in ind_age:\n",
    "    pet_df.loc[i,'AgeuponOutcome'] = '> 1 month and < 1 year'"
   ]
  },
  {
   "cell_type": "code",
   "execution_count": 57,
   "id": "b995a0df",
   "metadata": {},
   "outputs": [
    {
     "data": {
      "text/plain": [
       "array(['> 1 month and < 1 year', '2 years', '1 month or less', '4 years',\n",
       "       '3 years', '10 years or more', '7 years', '5 years', '6 years',\n",
       "       '9 years', '8 years'], dtype=object)"
      ]
     },
     "execution_count": 57,
     "metadata": {},
     "output_type": "execute_result"
    }
   ],
   "source": [
    "pet_df.AgeuponOutcome.unique()"
   ]
  },
  {
   "cell_type": "code",
   "execution_count": 103,
   "id": "6651cc09",
   "metadata": {},
   "outputs": [],
   "source": [
    "order_bins =['1 month or less','> 1 month and < 1 year','2 years','3 years','4 years','5 years','6 years','7 years','8 years','9 years','10 years or more']\n",
    "pet_df['AgeuponOutcome_Cat'] = pd.Categorical(pet_df['AgeuponOutcome'], order_bins)\n"
   ]
  },
  {
   "cell_type": "code",
   "execution_count": 105,
   "id": "64e4d068",
   "metadata": {},
   "outputs": [
    {
     "data": {
      "text/plain": [
       "Text(0.5, 1.0, 'Distribution of dogs by Age of outcome')"
      ]
     },
     "execution_count": 105,
     "metadata": {},
     "output_type": "execute_result"
    },
    {
     "data": {
      "image/png": "[encoded data removed]",
      "text/plain": [
       "<Figure size 576x576 with 1 Axes>"
      ]
     },
     "metadata": {
      "needs_background": "light"
     },
     "output_type": "display_data"
    }
   ],
   "source": [
    "import matplotlib.pyplot as plt\n",
    "fig, ax = plt.subplots()\n",
    "fig.set_size_inches(8,8)\n",
    "\n",
    "bar = sns.histplot(data=pet_df,x='AgeuponOutcome_Cat')\n",
    "                                                            \n",
    "from matplotlib.ticker import ScalarFormatter as SF\n",
    "from matplotlib.ticker import MultipleLocator as ML\n",
    "ax.xaxis.set_minor_locator(ML())\n",
    "ax.xaxis.set_minor_formatter(SF())\n",
    "ax.tick_params(axis='x',rotation=90)\n",
    "ax.set_title('Distribution of dogs by Age of outcome')\n"
   ]
  },
  {
   "cell_type": "code",
   "execution_count": 89,
   "id": "782fb23d",
   "metadata": {},
   "outputs": [
    {
     "name": "stdout",
     "output_type": "stream",
     "text": [
      "Help on function histplot in module seaborn.distributions:\n",
      "\n",
      "histplot(data=None, *, x=None, y=None, hue=None, weights=None, stat='count', bins='auto', binwidth=None, binrange=None, discrete=None, cumulative=False, common_bins=True, common_norm=True, multiple='layer', element='bars', fill=True, shrink=1, kde=False, kde_kws=None, line_kws=None, thresh=0, pthresh=None, pmax=None, cbar=False, cbar_ax=None, cbar_kws=None, palette=None, hue_order=None, hue_norm=None, color=None, log_scale=None, legend=True, ax=None, **kwargs)\n",
      "    Plot univariate or bivariate histograms to show distributions of datasets.\n",
      "    \n",
      "    A histogram is a classic visualization tool that represents the distribution\n",
      "    of one or more variables by counting the number of observations that fall within\n",
      "    disrete bins.\n",
      "    \n",
      "    This function can normalize the statistic computed within each bin to estimate\n",
      "    frequency, density or probability mass, and it can add a smooth curve obtained\n",
      "    using a kernel density estimate, similar to :func:`kdeplot`.\n",
      "    \n",
      "    More information is provided in the :ref:`user guide <tutorial_hist>`.\n",
      "    \n",
      "    Parameters\n",
      "    ----------\n",
      "    data : :class:`pandas.DataFrame`, :class:`numpy.ndarray`, mapping, or sequence\n",
      "        Input data structure. Either a long-form collection of vectors that can be\n",
      "        assigned to named variables or a wide-form dataset that will be internally\n",
      "        reshaped.\n",
      "    x, y : vectors or keys in ``data``\n",
      "        Variables that specify positions on the x and y axes.\n",
      "    hue : vector or key in ``data``\n",
      "        Semantic variable that is mapped to determine the color of plot elements.\n",
      "    weights : vector or key in ``data``\n",
      "        If provided, weight the contribution of the corresponding data points\n",
      "        towards the count in each bin by these factors.\n",
      "    stat : str\n",
      "        Aggregate statistic to compute in each bin.\n",
      "        \n",
      "        - `count`: show the number of observations in each bin\n",
      "        - `frequency`: show the number of observations divided by the bin width\n",
      "        - `probability`: or `proportion`: normalize such that bar heights sum to 1\n",
      "        - `percent`: normalize such that bar heights sum to 100\n",
      "        - `density`: normalize such that the total area of the histogram equals 1\n",
      "    bins : str, number, vector, or a pair of such values\n",
      "        Generic bin parameter that can be the name of a reference rule,\n",
      "        the number of bins, or the breaks of the bins.\n",
      "        Passed to :func:`numpy.histogram_bin_edges`.\n",
      "    binwidth : number or pair of numbers\n",
      "        Width of each bin, overrides ``bins`` but can be used with\n",
      "        ``binrange``.\n",
      "    binrange : pair of numbers or a pair of pairs\n",
      "        Lowest and highest value for bin edges; can be used either\n",
      "        with ``bins`` or ``binwidth``. Defaults to data extremes.\n",
      "    discrete : bool\n",
      "        If True, default to ``binwidth=1`` and draw the bars so that they are\n",
      "        centered on their corresponding data points. This avoids \"gaps\" that may\n",
      "        otherwise appear when using discrete (integer) data.\n",
      "    cumulative : bool\n",
      "        If True, plot the cumulative counts as bins increase.\n",
      "    common_bins : bool\n",
      "        If True, use the same bins when semantic variables produce multiple\n",
      "        plots. If using a reference rule to determine the bins, it will be computed\n",
      "        with the full dataset.\n",
      "    common_norm : bool\n",
      "        If True and using a normalized statistic, the normalization will apply over\n",
      "        the full dataset. Otherwise, normalize each histogram independently.\n",
      "    multiple : {\"layer\", \"dodge\", \"stack\", \"fill\"}\n",
      "        Approach to resolving multiple elements when semantic mapping creates subsets.\n",
      "        Only relevant with univariate data.\n",
      "    element : {\"bars\", \"step\", \"poly\"}\n",
      "        Visual representation of the histogram statistic.\n",
      "        Only relevant with univariate data.\n",
      "    fill : bool\n",
      "        If True, fill in the space under the histogram.\n",
      "        Only relevant with univariate data.\n",
      "    shrink : number\n",
      "        Scale the width of each bar relative to the binwidth by this factor.\n",
      "        Only relevant with univariate data.\n",
      "    kde : bool\n",
      "        If True, compute a kernel density estimate to smooth the distribution\n",
      "        and show on the plot as (one or more) line(s).\n",
      "        Only relevant with univariate data.\n",
      "    kde_kws : dict\n",
      "        Parameters that control the KDE computation, as in :func:`kdeplot`.\n",
      "    line_kws : dict\n",
      "        Parameters that control the KDE visualization, passed to\n",
      "        :meth:`matplotlib.axes.Axes.plot`.\n",
      "    thresh : number or None\n",
      "        Cells with a statistic less than or equal to this value will be transparent.\n",
      "        Only relevant with bivariate data.\n",
      "    pthresh : number or None\n",
      "        Like ``thresh``, but a value in [0, 1] such that cells with aggregate counts\n",
      "        (or other statistics, when used) up to this proportion of the total will be\n",
      "        transparent.\n",
      "    pmax : number or None\n",
      "        A value in [0, 1] that sets that saturation point for the colormap at a value\n",
      "        such that cells below is constistute this proportion of the total count (or\n",
      "        other statistic, when used).\n",
      "    cbar : bool\n",
      "        If True, add a colorbar to annotate the color mapping in a bivariate plot.\n",
      "        Note: Does not currently support plots with a ``hue`` variable well.\n",
      "    cbar_ax : :class:`matplotlib.axes.Axes`\n",
      "        Pre-existing axes for the colorbar.\n",
      "    cbar_kws : dict\n",
      "        Additional parameters passed to :meth:`matplotlib.figure.Figure.colorbar`.\n",
      "    palette : string, list, dict, or :class:`matplotlib.colors.Colormap`\n",
      "        Method for choosing the colors to use when mapping the ``hue`` semantic.\n",
      "        String values are passed to :func:`color_palette`. List or dict values\n",
      "        imply categorical mapping, while a colormap object implies numeric mapping.\n",
      "    hue_order : vector of strings\n",
      "        Specify the order of processing and plotting for categorical levels of the\n",
      "        ``hue`` semantic.\n",
      "    hue_norm : tuple or :class:`matplotlib.colors.Normalize`\n",
      "        Either a pair of values that set the normalization range in data units\n",
      "        or an object that will map from data units into a [0, 1] interval. Usage\n",
      "        implies numeric mapping.\n",
      "    color : :mod:`matplotlib color <matplotlib.colors>`\n",
      "        Single color specification for when hue mapping is not used. Otherwise, the\n",
      "        plot will try to hook into the matplotlib property cycle.\n",
      "    log_scale : bool or number, or pair of bools or numbers\n",
      "        Set axis scale(s) to log. A single value sets the data axis for univariate\n",
      "        distributions and both axes for bivariate distributions. A pair of values\n",
      "        sets each axis independently. Numeric values are interpreted as the desired\n",
      "        base (default 10). If `False`, defer to the existing Axes scale.\n",
      "    legend : bool\n",
      "        If False, suppress the legend for semantic variables.\n",
      "    ax : :class:`matplotlib.axes.Axes`\n",
      "        Pre-existing axes for the plot. Otherwise, call :func:`matplotlib.pyplot.gca`\n",
      "        internally.\n",
      "    kwargs\n",
      "        Other keyword arguments are passed to one of the following matplotlib\n",
      "        functions:\n",
      "    \n",
      "        - :meth:`matplotlib.axes.Axes.bar` (univariate, element=\"bars\")\n",
      "        - :meth:`matplotlib.axes.Axes.fill_between` (univariate, other element, fill=True)\n",
      "        - :meth:`matplotlib.axes.Axes.plot` (univariate, other element, fill=False)\n",
      "        - :meth:`matplotlib.axes.Axes.pcolormesh` (bivariate)\n",
      "    \n",
      "    Returns\n",
      "    -------\n",
      "    :class:`matplotlib.axes.Axes`\n",
      "        The matplotlib axes containing the plot.\n",
      "    \n",
      "    See Also\n",
      "    --------\n",
      "    displot : Figure-level interface to distribution plot functions.\n",
      "    kdeplot : Plot univariate or bivariate distributions using kernel density estimation.\n",
      "    rugplot : Plot a tick at each observation value along the x and/or y axes.\n",
      "    ecdfplot : Plot empirical cumulative distribution functions.\n",
      "    jointplot : Draw a bivariate plot with univariate marginal distributions.\n",
      "    \n",
      "    Notes\n",
      "    -----\n",
      "    \n",
      "    The choice of bins for computing and plotting a histogram can exert\n",
      "    substantial influence on the insights that one is able to draw from the\n",
      "    visualization. If the bins are too large, they may erase important features.\n",
      "    On the other hand, bins that are too small may be dominated by random\n",
      "    variability, obscuring the shape of the true underlying distribution. The\n",
      "    default bin size is determined using a reference rule that depends on the\n",
      "    sample size and variance. This works well in many cases, (i.e., with\n",
      "    \"well-behaved\" data) but it fails in others. It is always a good to try\n",
      "    different bin sizes to be sure that you are not missing something important.\n",
      "    This function allows you to specify bins in several different ways, such as\n",
      "    by setting the total number of bins to use, the width of each bin, or the\n",
      "    specific locations where the bins should break.\n",
      "    \n",
      "    Examples\n",
      "    --------\n",
      "    \n",
      "    .. include:: ../docstrings/histplot.rst\n",
      "\n"
     ]
    }
   ],
   "source": [
    "help(sns.histplot)"
   ]
  },
  {
   "cell_type": "code",
   "execution_count": null,
   "id": "bbdc74e5",
   "metadata": {},
   "outputs": [],
   "source": []
  }
 ],
 "metadata": {
  "kernelspec": {
   "display_name": "Python 3 (ipykernel)",
   "language": "python",
   "name": "python3"
  },
  "language_info": {
   "codemirror_mode": {
    "name": "ipython",
    "version": 3
   },
   "file_extension": ".py",
   "mimetype": "text/x-python",
   "name": "python",
   "nbconvert_exporter": "python",
   "pygments_lexer": "ipython3",
   "version": "3.9.7"
  }
 },
 "nbformat": 4,
 "nbformat_minor": 5
}
